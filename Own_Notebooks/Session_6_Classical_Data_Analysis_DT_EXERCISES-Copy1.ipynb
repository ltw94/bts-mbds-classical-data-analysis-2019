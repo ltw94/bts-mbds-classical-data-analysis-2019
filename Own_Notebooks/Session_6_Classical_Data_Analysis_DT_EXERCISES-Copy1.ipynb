{
 "cells": [
  {
   "cell_type": "markdown",
   "metadata": {
    "colab_type": "text",
    "id": "aB_ck5OSE3TU"
   },
   "source": [
    "![BTS](https://github.com/vfp1/bts-mbds-data-science-foundations-2019/raw/master/sessions/img/Logo-BTS.jpg)\n",
    "\n",
    "# Session 6: Decision Trees EXERCISES\n",
    "\n",
    "### Victor F. Pajuelo Madrigal <victor.pajuelo@bts.tech> - Classical Data Analysis (14-01-2020)\n",
    "\n",
    "Open this notebook in Google Colaboratory: [![Open in Colab](https://colab.research.google.com/assets/colab-badge.svg)](https://colab.research.google.com/github/vfp1/bts-mbds-classical-data-analysis-2019/blob/master/06_DECISION_TREES/Session_6_Classical_Data_Analysis_DT_EXERCISES.ipynb)\n",
    "\n",
    "\n",
    "\n"
   ]
  },
  {
   "cell_type": "markdown",
   "metadata": {
    "colab_type": "text",
    "id": "_dCdQvVLm8DY"
   },
   "source": [
    "## EXERCISE 1 - Decision Trees and Cross Validation\n",
    "\n",
    "Follow the steps to find the best parameters on the Decision Tree classification over a Moon dataset. Try to play with the hyperparameters and reason your results with theory in hand."
   ]
  },
  {
   "cell_type": "markdown",
   "metadata": {
    "colab_type": "text",
    "id": "DewyrECuR7kG"
   },
   "source": [
    "### Generate a moons dataset"
   ]
  },
  {
   "cell_type": "code",
   "execution_count": 94,
   "metadata": {
    "colab": {},
    "colab_type": "code",
    "id": "RRdATwBGPAs2"
   },
   "outputs": [],
   "source": [
    "from sklearn.datasets import make_moons\n",
    "\n",
    "X, y = make_moons(n_samples=10000, noise=0.4, random_state=42)"
   ]
  },
  {
   "cell_type": "markdown",
   "metadata": {
    "colab_type": "text",
    "id": "iBer2I-FSJ3G"
   },
   "source": [
    "### Split the train and test"
   ]
  },
  {
   "cell_type": "code",
   "execution_count": 2,
   "metadata": {
    "colab": {
     "base_uri": "https://localhost:8080/",
     "height": 35
    },
    "colab_type": "code",
    "id": "4WTj4rzaSVC_",
    "outputId": "49927a3f-64b2-4879-88da-8ac4cd46f667"
   },
   "outputs": [],
   "source": [
    "from sklearn.model_selection import train_test_split\n",
    "\n",
    "X, y = make_moons(n_samples=10000, noise=0.4, random_state=42)\n",
    "X_train, X_test, y_train, y_test = train_test_split(X, y, test_size = 0.2, random_state=42)"
   ]
  },
  {
   "cell_type": "markdown",
   "metadata": {
    "colab_type": "text",
    "id": "ejwKmbqqSXoJ"
   },
   "source": [
    "### Use grid search with Cross Validation\n",
    "Try to find good hyperparameter values for a DecisionTreeClassifier. Hint: try various values for max_leaf_nodes."
   ]
  },
  {
   "cell_type": "code",
   "execution_count": 3,
   "metadata": {
    "colab": {
     "base_uri": "https://localhost:8080/",
     "height": 467
    },
    "colab_type": "code",
    "id": "XwHRu9CkSbnH",
    "outputId": "e1f12ce7-168f-4954-91fc-064646df08f6"
   },
   "outputs": [
    {
     "name": "stdout",
     "output_type": "stream",
     "text": [
      "Fitting 3 folds for each of 588 candidates, totalling 1764 fits\n"
     ]
    },
    {
     "name": "stderr",
     "output_type": "stream",
     "text": [
      "[Parallel(n_jobs=1)]: Using backend SequentialBackend with 1 concurrent workers.\n",
      "[Parallel(n_jobs=1)]: Done 1764 out of 1764 | elapsed:   17.3s finished\n"
     ]
    },
    {
     "data": {
      "text/plain": [
       "GridSearchCV(cv=3, error_score=nan,\n",
       "             estimator=DecisionTreeClassifier(ccp_alpha=0.0, class_weight=None,\n",
       "                                              criterion='gini', max_depth=None,\n",
       "                                              max_features=None,\n",
       "                                              max_leaf_nodes=None,\n",
       "                                              min_impurity_decrease=0.0,\n",
       "                                              min_impurity_split=None,\n",
       "                                              min_samples_leaf=1,\n",
       "                                              min_samples_split=2,\n",
       "                                              min_weight_fraction_leaf=0.0,\n",
       "                                              presort='deprecated',\n",
       "                                              random_state=42,\n",
       "                                              splitter='best'),\n",
       "             iid='deprecated', n_jobs=None,\n",
       "             param_grid={'criterion': ['entropy', 'gini'],\n",
       "                         'max_leaf_nodes': [2, 3, 4, 5, 6, 7, 8, 9, 10, 11, 12,\n",
       "                                            13, 14, 15, 16, 17, 18, 19, 20, 21,\n",
       "                                            22, 23, 24, 25, 26, 27, 28, 29, 30,\n",
       "                                            31, ...],\n",
       "                         'min_samples_split': [2, 3, 4]},\n",
       "             pre_dispatch='2*n_jobs', refit=True, return_train_score=False,\n",
       "             scoring=None, verbose=1)"
      ]
     },
     "execution_count": 3,
     "metadata": {},
     "output_type": "execute_result"
    }
   ],
   "source": [
    "from sklearn.model_selection import GridSearchCV\n",
    "from sklearn.tree import DecisionTreeClassifier\n",
    "\n",
    "params = {'max_leaf_nodes': list(range(2, 100)), \n",
    "          'min_samples_split': [2, 3, 4], \n",
    "          'criterion':['entropy', 'gini']}\n",
    "          \n",
    "grid_search_cv = GridSearchCV(DecisionTreeClassifier(random_state=42), params, verbose=1, cv=3)\n",
    "\n",
    "grid_search_cv.fit(X, y)"
   ]
  },
  {
   "cell_type": "markdown",
   "metadata": {
    "colab_type": "text",
    "id": "PJeq7G_lSw8p"
   },
   "source": [
    "### Find the best estimator for GridSearch"
   ]
  },
  {
   "cell_type": "code",
   "execution_count": 4,
   "metadata": {
    "colab": {
     "base_uri": "https://localhost:8080/",
     "height": 125
    },
    "colab_type": "code",
    "id": "mOkAtmchS04K",
    "outputId": "ffcb53d3-b2ea-44b1-fa1b-ad45484d29e3"
   },
   "outputs": [
    {
     "data": {
      "text/plain": [
       "DecisionTreeClassifier(ccp_alpha=0.0, class_weight=None, criterion='entropy',\n",
       "                       max_depth=None, max_features=None, max_leaf_nodes=23,\n",
       "                       min_impurity_decrease=0.0, min_impurity_split=None,\n",
       "                       min_samples_leaf=1, min_samples_split=2,\n",
       "                       min_weight_fraction_leaf=0.0, presort='deprecated',\n",
       "                       random_state=42, splitter='best')"
      ]
     },
     "execution_count": 4,
     "metadata": {},
     "output_type": "execute_result"
    }
   ],
   "source": [
    "grid_search_cv.best_estimator_"
   ]
  },
  {
   "cell_type": "code",
   "execution_count": 5,
   "metadata": {
    "colab": {
     "base_uri": "https://localhost:8080/",
     "height": 35
    },
    "colab_type": "code",
    "id": "nhw_p7oN5yGd",
    "outputId": "e9a9af5a-35ec-4725-9384-8baab58c98b8"
   },
   "outputs": [
    {
     "data": {
      "text/plain": [
       "{'criterion': 'entropy', 'max_leaf_nodes': 23, 'min_samples_split': 2}"
      ]
     },
     "execution_count": 5,
     "metadata": {},
     "output_type": "execute_result"
    }
   ],
   "source": [
    "grid_search_cv.best_params_"
   ]
  },
  {
   "cell_type": "code",
   "execution_count": 7,
   "metadata": {},
   "outputs": [],
   "source": [
    "tree_clf = DecisionTreeClassifier(criterion= 'entropy', max_leaf_nodes = 23, min_samples_split = 2, \n",
    "                                  random_state=42)"
   ]
  },
  {
   "cell_type": "code",
   "execution_count": 14,
   "metadata": {},
   "outputs": [
    {
     "data": {
      "text/plain": [
       "DecisionTreeClassifier(ccp_alpha=0.0, class_weight=None, criterion='entropy',\n",
       "                       max_depth=None, max_features=None, max_leaf_nodes=23,\n",
       "                       min_impurity_decrease=0.0, min_impurity_split=None,\n",
       "                       min_samples_leaf=1, min_samples_split=2,\n",
       "                       min_weight_fraction_leaf=0.0, presort='deprecated',\n",
       "                       random_state=42, splitter='best')"
      ]
     },
     "execution_count": 14,
     "metadata": {},
     "output_type": "execute_result"
    }
   ],
   "source": [
    "tree_clf.fit(X_train, y_train)"
   ]
  },
  {
   "cell_type": "code",
   "execution_count": 35,
   "metadata": {
    "colab": {},
    "colab_type": "code",
    "id": "OeNwIdtk69Uy"
   },
   "outputs": [
    {
     "data": {
      "image/svg+xml": [
       "<?xml version=\"1.0\" encoding=\"UTF-8\" standalone=\"no\"?>\n",
       "<!DOCTYPE svg PUBLIC \"-//W3C//DTD SVG 1.1//EN\"\n",
       " \"http://www.w3.org/Graphics/SVG/1.1/DTD/svg11.dtd\">\n",
       "<!-- Generated by graphviz version 2.38.0 (20140413.2041)\n",
       " -->\n",
       "<!-- Title: Tree Pages: 1 -->\n",
       "<svg width=\"1649pt\" height=\"758pt\"\n",
       " viewBox=\"0.00 0.00 1648.80 758.00\" xmlns=\"http://www.w3.org/2000/svg\" xmlns:xlink=\"http://www.w3.org/1999/xlink\">\n",
       "<g id=\"graph0\" class=\"graph\" transform=\"scale(1 1) rotate(0) translate(4 754)\">\n",
       "<title>Tree</title>\n",
       "<polygon fill=\"white\" stroke=\"none\" points=\"-4,4 -4,-754 1644.8,-754 1644.8,4 -4,4\"/>\n",
       "<!-- 0 -->\n",
       "<g id=\"node1\" class=\"node\"><title>0</title>\n",
       "<path fill=\"#fefeff\" stroke=\"black\" d=\"M887.728,-750C887.728,-750 768.185,-750 768.185,-750 762.185,-750 756.185,-744 756.185,-738 756.185,-738 756.185,-698 756.185,-698 756.185,-692 762.185,-686 768.185,-686 768.185,-686 887.728,-686 887.728,-686 893.728,-686 899.728,-692 899.728,-698 899.728,-698 899.728,-738 899.728,-738 899.728,-744 893.728,-750 887.728,-750\"/>\n",
       "<text text-anchor=\"middle\" x=\"827.957\" y=\"-734.8\" font-family=\"Helvetica,sans-Serif\" font-size=\"14.00\">X[1] &lt;= 0.296</text>\n",
       "<text text-anchor=\"middle\" x=\"827.957\" y=\"-720.8\" font-family=\"Helvetica,sans-Serif\" font-size=\"14.00\">entropy = 1.0</text>\n",
       "<text text-anchor=\"middle\" x=\"827.957\" y=\"-706.8\" font-family=\"Helvetica,sans-Serif\" font-size=\"14.00\">samples = 8000</text>\n",
       "<text text-anchor=\"middle\" x=\"827.957\" y=\"-692.8\" font-family=\"Helvetica,sans-Serif\" font-size=\"14.00\">value = [3987, 4013]</text>\n",
       "</g>\n",
       "<!-- 1 -->\n",
       "<g id=\"node2\" class=\"node\"><title>1</title>\n",
       "<path fill=\"#78bced\" stroke=\"black\" d=\"M479.728,-650C479.728,-650 360.185,-650 360.185,-650 354.185,-650 348.185,-644 348.185,-638 348.185,-638 348.185,-598 348.185,-598 348.185,-592 354.185,-586 360.185,-586 360.185,-586 479.728,-586 479.728,-586 485.728,-586 491.728,-592 491.728,-598 491.728,-598 491.728,-638 491.728,-638 491.728,-644 485.728,-650 479.728,-650\"/>\n",
       "<text text-anchor=\"middle\" x=\"419.957\" y=\"-634.8\" font-family=\"Helvetica,sans-Serif\" font-size=\"14.00\">X[0] &lt;= &#45;0.476</text>\n",
       "<text text-anchor=\"middle\" x=\"419.957\" y=\"-620.8\" font-family=\"Helvetica,sans-Serif\" font-size=\"14.00\">entropy = 0.799</text>\n",
       "<text text-anchor=\"middle\" x=\"419.957\" y=\"-606.8\" font-family=\"Helvetica,sans-Serif\" font-size=\"14.00\">samples = 4275</text>\n",
       "<text text-anchor=\"middle\" x=\"419.957\" y=\"-592.8\" font-family=\"Helvetica,sans-Serif\" font-size=\"14.00\">value = [1036, 3239]</text>\n",
       "</g>\n",
       "<!-- 0&#45;&gt;1 -->\n",
       "<g id=\"edge1\" class=\"edge\"><title>0&#45;&gt;1</title>\n",
       "<path fill=\"none\" stroke=\"black\" d=\"M755.954,-699.705C684.799,-682.614 576.098,-656.505 501.728,-638.641\"/>\n",
       "<polygon fill=\"black\" stroke=\"black\" points=\"502.466,-635.219 491.925,-636.286 500.831,-642.025 502.466,-635.219\"/>\n",
       "<text text-anchor=\"middle\" x=\"504.985\" y=\"-653.404\" font-family=\"Helvetica,sans-Serif\" font-size=\"14.00\">True</text>\n",
       "</g>\n",
       "<!-- 2 -->\n",
       "<g id=\"node27\" class=\"node\"><title>2</title>\n",
       "<path fill=\"#eca26d\" stroke=\"black\" d=\"M1289.94,-650C1289.94,-650 1177.97,-650 1177.97,-650 1171.97,-650 1165.97,-644 1165.97,-638 1165.97,-638 1165.97,-598 1165.97,-598 1165.97,-592 1171.97,-586 1177.97,-586 1177.97,-586 1289.94,-586 1289.94,-586 1295.94,-586 1301.94,-592 1301.94,-598 1301.94,-598 1301.94,-638 1301.94,-638 1301.94,-644 1295.94,-650 1289.94,-650\"/>\n",
       "<text text-anchor=\"middle\" x=\"1233.96\" y=\"-634.8\" font-family=\"Helvetica,sans-Serif\" font-size=\"14.00\">X[0] &lt;= 1.452</text>\n",
       "<text text-anchor=\"middle\" x=\"1233.96\" y=\"-620.8\" font-family=\"Helvetica,sans-Serif\" font-size=\"14.00\">entropy = 0.737</text>\n",
       "<text text-anchor=\"middle\" x=\"1233.96\" y=\"-606.8\" font-family=\"Helvetica,sans-Serif\" font-size=\"14.00\">samples = 3725</text>\n",
       "<text text-anchor=\"middle\" x=\"1233.96\" y=\"-592.8\" font-family=\"Helvetica,sans-Serif\" font-size=\"14.00\">value = [2951, 774]</text>\n",
       "</g>\n",
       "<!-- 0&#45;&gt;2 -->\n",
       "<g id=\"edge26\" class=\"edge\"><title>0&#45;&gt;2</title>\n",
       "<path fill=\"none\" stroke=\"black\" d=\"M899.607,-699.705C971.611,-682.325 1082.25,-655.618 1156.31,-637.741\"/>\n",
       "<polygon fill=\"black\" stroke=\"black\" points=\"1157.16,-641.137 1166.06,-635.389 1155.52,-634.333 1157.16,-641.137\"/>\n",
       "<text text-anchor=\"middle\" x=\"1153.02\" y=\"-652.521\" font-family=\"Helvetica,sans-Serif\" font-size=\"14.00\">False</text>\n",
       "</g>\n",
       "<!-- 3 -->\n",
       "<g id=\"node3\" class=\"node\"><title>3</title>\n",
       "<path fill=\"#e88f4f\" stroke=\"black\" d=\"M245.87,-550C245.87,-550 150.043,-550 150.043,-550 144.043,-550 138.043,-544 138.043,-538 138.043,-538 138.043,-498 138.043,-498 138.043,-492 144.043,-486 150.043,-486 150.043,-486 245.87,-486 245.87,-486 251.87,-486 257.87,-492 257.87,-498 257.87,-498 257.87,-538 257.87,-538 257.87,-544 251.87,-550 245.87,-550\"/>\n",
       "<text text-anchor=\"middle\" x=\"197.957\" y=\"-534.8\" font-family=\"Helvetica,sans-Serif\" font-size=\"14.00\">X[0] &lt;= &#45;0.844</text>\n",
       "<text text-anchor=\"middle\" x=\"197.957\" y=\"-520.8\" font-family=\"Helvetica,sans-Serif\" font-size=\"14.00\">entropy = 0.474</text>\n",
       "<text text-anchor=\"middle\" x=\"197.957\" y=\"-506.8\" font-family=\"Helvetica,sans-Serif\" font-size=\"14.00\">samples = 472</text>\n",
       "<text text-anchor=\"middle\" x=\"197.957\" y=\"-492.8\" font-family=\"Helvetica,sans-Serif\" font-size=\"14.00\">value = [424, 48]</text>\n",
       "</g>\n",
       "<!-- 1&#45;&gt;3 -->\n",
       "<g id=\"edge2\" class=\"edge\"><title>1&#45;&gt;3</title>\n",
       "<path fill=\"none\" stroke=\"black\" d=\"M349.714,-585.992C323.467,-574.405 293.689,-561.26 267.504,-549.701\"/>\n",
       "<polygon fill=\"black\" stroke=\"black\" points=\"268.595,-546.357 258.033,-545.52 265.768,-552.761 268.595,-546.357\"/>\n",
       "</g>\n",
       "<!-- 4 -->\n",
       "<g id=\"node6\" class=\"node\"><title>4</title>\n",
       "<path fill=\"#5fb0ea\" stroke=\"black\" d=\"M475.943,-550C475.943,-550 363.97,-550 363.97,-550 357.97,-550 351.97,-544 351.97,-538 351.97,-538 351.97,-498 351.97,-498 351.97,-492 357.97,-486 363.97,-486 363.97,-486 475.943,-486 475.943,-486 481.943,-486 487.943,-492 487.943,-498 487.943,-498 487.943,-538 487.943,-538 487.943,-544 481.943,-550 475.943,-550\"/>\n",
       "<text text-anchor=\"middle\" x=\"419.957\" y=\"-534.8\" font-family=\"Helvetica,sans-Serif\" font-size=\"14.00\">X[1] &lt;= &#45;0.173</text>\n",
       "<text text-anchor=\"middle\" x=\"419.957\" y=\"-520.8\" font-family=\"Helvetica,sans-Serif\" font-size=\"14.00\">entropy = 0.637</text>\n",
       "<text text-anchor=\"middle\" x=\"419.957\" y=\"-506.8\" font-family=\"Helvetica,sans-Serif\" font-size=\"14.00\">samples = 3803</text>\n",
       "<text text-anchor=\"middle\" x=\"419.957\" y=\"-492.8\" font-family=\"Helvetica,sans-Serif\" font-size=\"14.00\">value = [612, 3191]</text>\n",
       "</g>\n",
       "<!-- 1&#45;&gt;4 -->\n",
       "<g id=\"edge5\" class=\"edge\"><title>1&#45;&gt;4</title>\n",
       "<path fill=\"none\" stroke=\"black\" d=\"M419.957,-585.992C419.957,-577.859 419.957,-568.959 419.957,-560.378\"/>\n",
       "<polygon fill=\"black\" stroke=\"black\" points=\"423.457,-560.142 419.957,-550.142 416.457,-560.142 423.457,-560.142\"/>\n",
       "</g>\n",
       "<!-- 15 -->\n",
       "<g id=\"node4\" class=\"node\"><title>15</title>\n",
       "<path fill=\"#e5823a\" stroke=\"black\" d=\"M107.643,-443C107.643,-443 18.2706,-443 18.2706,-443 12.2706,-443 6.27056,-437 6.27056,-431 6.27056,-431 6.27056,-405 6.27056,-405 6.27056,-399 12.2706,-393 18.2706,-393 18.2706,-393 107.643,-393 107.643,-393 113.643,-393 119.643,-399 119.643,-405 119.643,-405 119.643,-431 119.643,-431 119.643,-437 113.643,-443 107.643,-443\"/>\n",
       "<text text-anchor=\"middle\" x=\"62.9565\" y=\"-427.8\" font-family=\"Helvetica,sans-Serif\" font-size=\"14.00\">entropy = 0.058</text>\n",
       "<text text-anchor=\"middle\" x=\"62.9565\" y=\"-413.8\" font-family=\"Helvetica,sans-Serif\" font-size=\"14.00\">samples = 297</text>\n",
       "<text text-anchor=\"middle\" x=\"62.9565\" y=\"-399.8\" font-family=\"Helvetica,sans-Serif\" font-size=\"14.00\">value = [295, 2]</text>\n",
       "</g>\n",
       "<!-- 3&#45;&gt;15 -->\n",
       "<g id=\"edge3\" class=\"edge\"><title>3&#45;&gt;15</title>\n",
       "<path fill=\"none\" stroke=\"black\" d=\"M155.242,-485.992C139.06,-474.245 120.67,-460.896 104.589,-449.222\"/>\n",
       "<polygon fill=\"black\" stroke=\"black\" points=\"106.563,-446.33 96.414,-443.288 102.45,-451.995 106.563,-446.33\"/>\n",
       "</g>\n",
       "<!-- 16 -->\n",
       "<g id=\"node5\" class=\"node\"><title>16</title>\n",
       "<path fill=\"#eeae80\" stroke=\"black\" d=\"M245.87,-443C245.87,-443 150.043,-443 150.043,-443 144.043,-443 138.043,-437 138.043,-431 138.043,-431 138.043,-405 138.043,-405 138.043,-399 144.043,-393 150.043,-393 150.043,-393 245.87,-393 245.87,-393 251.87,-393 257.87,-399 257.87,-405 257.87,-405 257.87,-431 257.87,-431 257.87,-437 251.87,-443 245.87,-443\"/>\n",
       "<text text-anchor=\"middle\" x=\"197.957\" y=\"-427.8\" font-family=\"Helvetica,sans-Serif\" font-size=\"14.00\">entropy = 0.831</text>\n",
       "<text text-anchor=\"middle\" x=\"197.957\" y=\"-413.8\" font-family=\"Helvetica,sans-Serif\" font-size=\"14.00\">samples = 175</text>\n",
       "<text text-anchor=\"middle\" x=\"197.957\" y=\"-399.8\" font-family=\"Helvetica,sans-Serif\" font-size=\"14.00\">value = [129, 46]</text>\n",
       "</g>\n",
       "<!-- 3&#45;&gt;16 -->\n",
       "<g id=\"edge4\" class=\"edge\"><title>3&#45;&gt;16</title>\n",
       "<path fill=\"none\" stroke=\"black\" d=\"M197.957,-485.992C197.957,-475.646 197.957,-464.057 197.957,-453.465\"/>\n",
       "<polygon fill=\"black\" stroke=\"black\" points=\"201.457,-453.288 197.957,-443.288 194.457,-453.288 201.457,-453.288\"/>\n",
       "</g>\n",
       "<!-- 7 -->\n",
       "<g id=\"node7\" class=\"node\"><title>7</title>\n",
       "<path fill=\"#46a4e7\" stroke=\"black\" d=\"M399.943,-450C399.943,-450 287.97,-450 287.97,-450 281.97,-450 275.97,-444 275.97,-438 275.97,-438 275.97,-398 275.97,-398 275.97,-392 281.97,-386 287.97,-386 287.97,-386 399.943,-386 399.943,-386 405.943,-386 411.943,-392 411.943,-398 411.943,-398 411.943,-438 411.943,-438 411.943,-444 405.943,-450 399.943,-450\"/>\n",
       "<text text-anchor=\"middle\" x=\"343.957\" y=\"-434.8\" font-family=\"Helvetica,sans-Serif\" font-size=\"14.00\">X[0] &lt;= 1.359</text>\n",
       "<text text-anchor=\"middle\" x=\"343.957\" y=\"-420.8\" font-family=\"Helvetica,sans-Serif\" font-size=\"14.00\">entropy = 0.337</text>\n",
       "<text text-anchor=\"middle\" x=\"343.957\" y=\"-406.8\" font-family=\"Helvetica,sans-Serif\" font-size=\"14.00\">samples = 2034</text>\n",
       "<text text-anchor=\"middle\" x=\"343.957\" y=\"-392.8\" font-family=\"Helvetica,sans-Serif\" font-size=\"14.00\">value = [127, 1907]</text>\n",
       "</g>\n",
       "<!-- 4&#45;&gt;7 -->\n",
       "<g id=\"edge6\" class=\"edge\"><title>4&#45;&gt;7</title>\n",
       "<path fill=\"none\" stroke=\"black\" d=\"M395.91,-485.992C389.048,-477.144 381.482,-467.388 374.297,-458.123\"/>\n",
       "<polygon fill=\"black\" stroke=\"black\" points=\"377.002,-455.9 368.108,-450.142 371.47,-460.19 377.002,-455.9\"/>\n",
       "</g>\n",
       "<!-- 8 -->\n",
       "<g id=\"node12\" class=\"node\"><title>8</title>\n",
       "<path fill=\"#84c2ef\" stroke=\"black\" d=\"M552.943,-450C552.943,-450 440.97,-450 440.97,-450 434.97,-450 428.97,-444 428.97,-438 428.97,-438 428.97,-398 428.97,-398 428.97,-392 434.97,-386 440.97,-386 440.97,-386 552.943,-386 552.943,-386 558.943,-386 564.943,-392 564.943,-398 564.943,-398 564.943,-438 564.943,-438 564.943,-444 558.943,-450 552.943,-450\"/>\n",
       "<text text-anchor=\"middle\" x=\"496.957\" y=\"-434.8\" font-family=\"Helvetica,sans-Serif\" font-size=\"14.00\">X[0] &lt;= 1.516</text>\n",
       "<text text-anchor=\"middle\" x=\"496.957\" y=\"-420.8\" font-family=\"Helvetica,sans-Serif\" font-size=\"14.00\">entropy = 0.847</text>\n",
       "<text text-anchor=\"middle\" x=\"496.957\" y=\"-406.8\" font-family=\"Helvetica,sans-Serif\" font-size=\"14.00\">samples = 1769</text>\n",
       "<text text-anchor=\"middle\" x=\"496.957\" y=\"-392.8\" font-family=\"Helvetica,sans-Serif\" font-size=\"14.00\">value = [485, 1284]</text>\n",
       "</g>\n",
       "<!-- 4&#45;&gt;8 -->\n",
       "<g id=\"edge11\" class=\"edge\"><title>4&#45;&gt;8</title>\n",
       "<path fill=\"none\" stroke=\"black\" d=\"M444.32,-485.992C451.272,-477.144 458.938,-467.388 466.217,-458.123\"/>\n",
       "<polygon fill=\"black\" stroke=\"black\" points=\"469.061,-460.168 472.487,-450.142 463.557,-455.843 469.061,-460.168\"/>\n",
       "</g>\n",
       "<!-- 23 -->\n",
       "<g id=\"node8\" class=\"node\"><title>23</title>\n",
       "<path fill=\"#4ba6e7\" stroke=\"black\" d=\"M253.41,-350C253.41,-350 142.503,-350 142.503,-350 136.503,-350 130.503,-344 130.503,-338 130.503,-338 130.503,-298 130.503,-298 130.503,-292 136.503,-286 142.503,-286 142.503,-286 253.41,-286 253.41,-286 259.41,-286 265.41,-292 265.41,-298 265.41,-298 265.41,-338 265.41,-338 265.41,-344 259.41,-350 253.41,-350\"/>\n",
       "<text text-anchor=\"middle\" x=\"197.957\" y=\"-334.8\" font-family=\"Helvetica,sans-Serif\" font-size=\"14.00\">X[1] &lt;= &#45;0.531</text>\n",
       "<text text-anchor=\"middle\" x=\"197.957\" y=\"-320.8\" font-family=\"Helvetica,sans-Serif\" font-size=\"14.00\">entropy = 0.417</text>\n",
       "<text text-anchor=\"middle\" x=\"197.957\" y=\"-306.8\" font-family=\"Helvetica,sans-Serif\" font-size=\"14.00\">samples = 1400</text>\n",
       "<text text-anchor=\"middle\" x=\"197.957\" y=\"-292.8\" font-family=\"Helvetica,sans-Serif\" font-size=\"14.00\">value = [118, 1282]</text>\n",
       "</g>\n",
       "<!-- 7&#45;&gt;23 -->\n",
       "<g id=\"edge7\" class=\"edge\"><title>7&#45;&gt;23</title>\n",
       "<path fill=\"none\" stroke=\"black\" d=\"M297.761,-385.992C283.515,-376.429 267.687,-365.805 252.911,-355.887\"/>\n",
       "<polygon fill=\"black\" stroke=\"black\" points=\"254.606,-352.81 244.352,-350.142 250.705,-358.622 254.606,-352.81\"/>\n",
       "</g>\n",
       "<!-- 24 -->\n",
       "<g id=\"node11\" class=\"node\"><title>24</title>\n",
       "<path fill=\"#3c9ee5\" stroke=\"black\" d=\"M388.643,-343C388.643,-343 299.271,-343 299.271,-343 293.271,-343 287.271,-337 287.271,-331 287.271,-331 287.271,-305 287.271,-305 287.271,-299 293.271,-293 299.271,-293 299.271,-293 388.643,-293 388.643,-293 394.643,-293 400.643,-299 400.643,-305 400.643,-305 400.643,-331 400.643,-331 400.643,-337 394.643,-343 388.643,-343\"/>\n",
       "<text text-anchor=\"middle\" x=\"343.957\" y=\"-327.8\" font-family=\"Helvetica,sans-Serif\" font-size=\"14.00\">entropy = 0.107</text>\n",
       "<text text-anchor=\"middle\" x=\"343.957\" y=\"-313.8\" font-family=\"Helvetica,sans-Serif\" font-size=\"14.00\">samples = 634</text>\n",
       "<text text-anchor=\"middle\" x=\"343.957\" y=\"-299.8\" font-family=\"Helvetica,sans-Serif\" font-size=\"14.00\">value = [9, 625]</text>\n",
       "</g>\n",
       "<!-- 7&#45;&gt;24 -->\n",
       "<g id=\"edge10\" class=\"edge\"><title>7&#45;&gt;24</title>\n",
       "<path fill=\"none\" stroke=\"black\" d=\"M343.957,-385.992C343.957,-375.646 343.957,-364.057 343.957,-353.465\"/>\n",
       "<polygon fill=\"black\" stroke=\"black\" points=\"347.457,-353.288 343.957,-343.288 340.457,-353.288 347.457,-353.288\"/>\n",
       "</g>\n",
       "<!-- 25 -->\n",
       "<g id=\"node9\" class=\"node\"><title>25</title>\n",
       "<path fill=\"#40a0e6\" stroke=\"black\" d=\"M107.87,-243C107.87,-243 12.0434,-243 12.0434,-243 6.04343,-243 0.0434256,-237 0.0434256,-231 0.0434256,-231 0.0434256,-205 0.0434256,-205 0.0434256,-199 6.04343,-193 12.0434,-193 12.0434,-193 107.87,-193 107.87,-193 113.87,-193 119.87,-199 119.87,-205 119.87,-205 119.87,-231 119.87,-231 119.87,-237 113.87,-243 107.87,-243\"/>\n",
       "<text text-anchor=\"middle\" x=\"59.9565\" y=\"-227.8\" font-family=\"Helvetica,sans-Serif\" font-size=\"14.00\">entropy = 0.213</text>\n",
       "<text text-anchor=\"middle\" x=\"59.9565\" y=\"-213.8\" font-family=\"Helvetica,sans-Serif\" font-size=\"14.00\">samples = 621</text>\n",
       "<text text-anchor=\"middle\" x=\"59.9565\" y=\"-199.8\" font-family=\"Helvetica,sans-Serif\" font-size=\"14.00\">value = [21, 600]</text>\n",
       "</g>\n",
       "<!-- 23&#45;&gt;25 -->\n",
       "<g id=\"edge8\" class=\"edge\"><title>23&#45;&gt;25</title>\n",
       "<path fill=\"none\" stroke=\"black\" d=\"M154.292,-285.992C137.751,-274.245 118.953,-260.896 102.514,-249.222\"/>\n",
       "<polygon fill=\"black\" stroke=\"black\" points=\"104.337,-246.224 94.1575,-243.288 100.284,-251.931 104.337,-246.224\"/>\n",
       "</g>\n",
       "<!-- 26 -->\n",
       "<g id=\"node10\" class=\"node\"><title>26</title>\n",
       "<path fill=\"#55abe9\" stroke=\"black\" d=\"M245.87,-243C245.87,-243 150.043,-243 150.043,-243 144.043,-243 138.043,-237 138.043,-231 138.043,-231 138.043,-205 138.043,-205 138.043,-199 144.043,-193 150.043,-193 150.043,-193 245.87,-193 245.87,-193 251.87,-193 257.87,-199 257.87,-205 257.87,-205 257.87,-231 257.87,-231 257.87,-237 251.87,-243 245.87,-243\"/>\n",
       "<text text-anchor=\"middle\" x=\"197.957\" y=\"-227.8\" font-family=\"Helvetica,sans-Serif\" font-size=\"14.00\">entropy = 0.542</text>\n",
       "<text text-anchor=\"middle\" x=\"197.957\" y=\"-213.8\" font-family=\"Helvetica,sans-Serif\" font-size=\"14.00\">samples = 779</text>\n",
       "<text text-anchor=\"middle\" x=\"197.957\" y=\"-199.8\" font-family=\"Helvetica,sans-Serif\" font-size=\"14.00\">value = [97, 682]</text>\n",
       "</g>\n",
       "<!-- 23&#45;&gt;26 -->\n",
       "<g id=\"edge9\" class=\"edge\"><title>23&#45;&gt;26</title>\n",
       "<path fill=\"none\" stroke=\"black\" d=\"M197.957,-285.992C197.957,-275.646 197.957,-264.057 197.957,-253.465\"/>\n",
       "<polygon fill=\"black\" stroke=\"black\" points=\"201.457,-253.288 197.957,-243.288 194.457,-253.288 201.457,-253.288\"/>\n",
       "</g>\n",
       "<!-- 11 -->\n",
       "<g id=\"node13\" class=\"node\"><title>11</title>\n",
       "<path fill=\"#a7d3f3\" stroke=\"black\" d=\"M537.656,-350C537.656,-350 434.257,-350 434.257,-350 428.257,-350 422.257,-344 422.257,-338 422.257,-338 422.257,-298 422.257,-298 422.257,-292 428.257,-286 434.257,-286 434.257,-286 537.656,-286 537.656,-286 543.656,-286 549.656,-292 549.656,-298 549.656,-298 549.656,-338 549.656,-338 549.656,-344 543.656,-350 537.656,-350\"/>\n",
       "<text text-anchor=\"middle\" x=\"485.957\" y=\"-334.8\" font-family=\"Helvetica,sans-Serif\" font-size=\"14.00\">X[1] &lt;= 0.131</text>\n",
       "<text text-anchor=\"middle\" x=\"485.957\" y=\"-320.8\" font-family=\"Helvetica,sans-Serif\" font-size=\"14.00\">entropy = 0.94</text>\n",
       "<text text-anchor=\"middle\" x=\"485.957\" y=\"-306.8\" font-family=\"Helvetica,sans-Serif\" font-size=\"14.00\">samples = 1310</text>\n",
       "<text text-anchor=\"middle\" x=\"485.957\" y=\"-292.8\" font-family=\"Helvetica,sans-Serif\" font-size=\"14.00\">value = [467, 843]</text>\n",
       "</g>\n",
       "<!-- 8&#45;&gt;11 -->\n",
       "<g id=\"edge12\" class=\"edge\"><title>8&#45;&gt;11</title>\n",
       "<path fill=\"none\" stroke=\"black\" d=\"M493.476,-385.992C492.553,-377.77 491.542,-368.763 490.569,-360.095\"/>\n",
       "<polygon fill=\"black\" stroke=\"black\" points=\"494.046,-359.69 489.452,-350.142 487.09,-360.47 494.046,-359.69\"/>\n",
       "</g>\n",
       "<!-- 12 -->\n",
       "<g id=\"node24\" class=\"node\"><title>12</title>\n",
       "<path fill=\"#41a1e6\" stroke=\"black\" d=\"M675.87,-350C675.87,-350 580.043,-350 580.043,-350 574.043,-350 568.043,-344 568.043,-338 568.043,-338 568.043,-298 568.043,-298 568.043,-292 574.043,-286 580.043,-286 580.043,-286 675.87,-286 675.87,-286 681.87,-286 687.87,-292 687.87,-298 687.87,-298 687.87,-338 687.87,-338 687.87,-344 681.87,-350 675.87,-350\"/>\n",
       "<text text-anchor=\"middle\" x=\"627.957\" y=\"-334.8\" font-family=\"Helvetica,sans-Serif\" font-size=\"14.00\">X[0] &lt;= 1.897</text>\n",
       "<text text-anchor=\"middle\" x=\"627.957\" y=\"-320.8\" font-family=\"Helvetica,sans-Serif\" font-size=\"14.00\">entropy = 0.239</text>\n",
       "<text text-anchor=\"middle\" x=\"627.957\" y=\"-306.8\" font-family=\"Helvetica,sans-Serif\" font-size=\"14.00\">samples = 459</text>\n",
       "<text text-anchor=\"middle\" x=\"627.957\" y=\"-292.8\" font-family=\"Helvetica,sans-Serif\" font-size=\"14.00\">value = [18, 441]</text>\n",
       "</g>\n",
       "<!-- 8&#45;&gt;12 -->\n",
       "<g id=\"edge23\" class=\"edge\"><title>8&#45;&gt;12</title>\n",
       "<path fill=\"none\" stroke=\"black\" d=\"M538.406,-385.992C551.069,-376.519 565.125,-366.004 578.276,-356.165\"/>\n",
       "<polygon fill=\"black\" stroke=\"black\" points=\"580.417,-358.935 586.327,-350.142 576.223,-353.33 580.417,-358.935\"/>\n",
       "</g>\n",
       "<!-- 21 -->\n",
       "<g id=\"node14\" class=\"node\"><title>21</title>\n",
       "<path fill=\"#8ac5f0\" stroke=\"black\" d=\"M391.656,-250C391.656,-250 288.257,-250 288.257,-250 282.257,-250 276.257,-244 276.257,-238 276.257,-238 276.257,-198 276.257,-198 276.257,-192 282.257,-186 288.257,-186 288.257,-186 391.656,-186 391.656,-186 397.656,-186 403.656,-192 403.656,-198 403.656,-198 403.656,-238 403.656,-238 403.656,-244 397.656,-250 391.656,-250\"/>\n",
       "<text text-anchor=\"middle\" x=\"339.957\" y=\"-234.8\" font-family=\"Helvetica,sans-Serif\" font-size=\"14.00\">X[0] &lt;= 0.631</text>\n",
       "<text text-anchor=\"middle\" x=\"339.957\" y=\"-220.8\" font-family=\"Helvetica,sans-Serif\" font-size=\"14.00\">entropy = 0.868</text>\n",
       "<text text-anchor=\"middle\" x=\"339.957\" y=\"-206.8\" font-family=\"Helvetica,sans-Serif\" font-size=\"14.00\">samples = 853</text>\n",
       "<text text-anchor=\"middle\" x=\"339.957\" y=\"-192.8\" font-family=\"Helvetica,sans-Serif\" font-size=\"14.00\">value = [247, 606]</text>\n",
       "</g>\n",
       "<!-- 11&#45;&gt;21 -->\n",
       "<g id=\"edge13\" class=\"edge\"><title>11&#45;&gt;21</title>\n",
       "<path fill=\"none\" stroke=\"black\" d=\"M439.761,-285.992C425.515,-276.429 409.687,-265.805 394.911,-255.887\"/>\n",
       "<polygon fill=\"black\" stroke=\"black\" points=\"396.606,-252.81 386.352,-250.142 392.705,-258.622 396.606,-252.81\"/>\n",
       "</g>\n",
       "<!-- 22 -->\n",
       "<g id=\"node19\" class=\"node\"><title>22</title>\n",
       "<path fill=\"#f1f8fd\" stroke=\"black\" d=\"M537.656,-250C537.656,-250 434.257,-250 434.257,-250 428.257,-250 422.257,-244 422.257,-238 422.257,-238 422.257,-198 422.257,-198 422.257,-192 428.257,-186 434.257,-186 434.257,-186 537.656,-186 537.656,-186 543.656,-186 549.656,-192 549.656,-198 549.656,-198 549.656,-238 549.656,-238 549.656,-244 543.656,-250 537.656,-250\"/>\n",
       "<text text-anchor=\"middle\" x=\"485.957\" y=\"-234.8\" font-family=\"Helvetica,sans-Serif\" font-size=\"14.00\">X[0] &lt;= 0.479</text>\n",
       "<text text-anchor=\"middle\" x=\"485.957\" y=\"-220.8\" font-family=\"Helvetica,sans-Serif\" font-size=\"14.00\">entropy = 0.999</text>\n",
       "<text text-anchor=\"middle\" x=\"485.957\" y=\"-206.8\" font-family=\"Helvetica,sans-Serif\" font-size=\"14.00\">samples = 457</text>\n",
       "<text text-anchor=\"middle\" x=\"485.957\" y=\"-192.8\" font-family=\"Helvetica,sans-Serif\" font-size=\"14.00\">value = [220, 237]</text>\n",
       "</g>\n",
       "<!-- 11&#45;&gt;22 -->\n",
       "<g id=\"edge18\" class=\"edge\"><title>11&#45;&gt;22</title>\n",
       "<path fill=\"none\" stroke=\"black\" d=\"M485.957,-285.992C485.957,-277.859 485.957,-268.959 485.957,-260.378\"/>\n",
       "<polygon fill=\"black\" stroke=\"black\" points=\"489.457,-260.142 485.957,-250.142 482.457,-260.142 489.457,-260.142\"/>\n",
       "</g>\n",
       "<!-- 37 -->\n",
       "<g id=\"node15\" class=\"node\"><title>37</title>\n",
       "<path fill=\"#73baed\" stroke=\"black\" d=\"M246.87,-150C246.87,-150 151.043,-150 151.043,-150 145.043,-150 139.043,-144 139.043,-138 139.043,-138 139.043,-98 139.043,-98 139.043,-92 145.043,-86 151.043,-86 151.043,-86 246.87,-86 246.87,-86 252.87,-86 258.87,-92 258.87,-98 258.87,-98 258.87,-138 258.87,-138 258.87,-144 252.87,-150 246.87,-150\"/>\n",
       "<text text-anchor=\"middle\" x=\"198.957\" y=\"-134.8\" font-family=\"Helvetica,sans-Serif\" font-size=\"14.00\">X[0] &lt;= &#45;0.189</text>\n",
       "<text text-anchor=\"middle\" x=\"198.957\" y=\"-120.8\" font-family=\"Helvetica,sans-Serif\" font-size=\"14.00\">entropy = 0.774</text>\n",
       "<text text-anchor=\"middle\" x=\"198.957\" y=\"-106.8\" font-family=\"Helvetica,sans-Serif\" font-size=\"14.00\">samples = 435</text>\n",
       "<text text-anchor=\"middle\" x=\"198.957\" y=\"-92.8\" font-family=\"Helvetica,sans-Serif\" font-size=\"14.00\">value = [99, 336]</text>\n",
       "</g>\n",
       "<!-- 21&#45;&gt;37 -->\n",
       "<g id=\"edge14\" class=\"edge\"><title>21&#45;&gt;37</title>\n",
       "<path fill=\"none\" stroke=\"black\" d=\"M295.343,-185.992C281.585,-176.429 266.299,-165.805 252.029,-155.887\"/>\n",
       "<polygon fill=\"black\" stroke=\"black\" points=\"253.973,-152.976 243.764,-150.142 249.977,-158.724 253.973,-152.976\"/>\n",
       "</g>\n",
       "<!-- 38 -->\n",
       "<g id=\"node18\" class=\"node\"><title>38</title>\n",
       "<path fill=\"#a6d3f3\" stroke=\"black\" d=\"M392.656,-143C392.656,-143 289.257,-143 289.257,-143 283.257,-143 277.257,-137 277.257,-131 277.257,-131 277.257,-105 277.257,-105 277.257,-99 283.257,-93 289.257,-93 289.257,-93 392.656,-93 392.656,-93 398.656,-93 404.656,-99 404.656,-105 404.656,-105 404.656,-131 404.656,-131 404.656,-137 398.656,-143 392.656,-143\"/>\n",
       "<text text-anchor=\"middle\" x=\"340.957\" y=\"-127.8\" font-family=\"Helvetica,sans-Serif\" font-size=\"14.00\">entropy = 0.938</text>\n",
       "<text text-anchor=\"middle\" x=\"340.957\" y=\"-113.8\" font-family=\"Helvetica,sans-Serif\" font-size=\"14.00\">samples = 418</text>\n",
       "<text text-anchor=\"middle\" x=\"340.957\" y=\"-99.8\" font-family=\"Helvetica,sans-Serif\" font-size=\"14.00\">value = [148, 270]</text>\n",
       "</g>\n",
       "<!-- 21&#45;&gt;38 -->\n",
       "<g id=\"edge17\" class=\"edge\"><title>21&#45;&gt;38</title>\n",
       "<path fill=\"none\" stroke=\"black\" d=\"M340.273,-185.992C340.379,-175.646 340.497,-164.057 340.605,-153.465\"/>\n",
       "<polygon fill=\"black\" stroke=\"black\" points=\"344.106,-153.323 340.709,-143.288 337.107,-153.251 344.106,-153.323\"/>\n",
       "</g>\n",
       "<!-- 39 -->\n",
       "<g id=\"node16\" class=\"node\"><title>39</title>\n",
       "<path fill=\"#d0e8f9\" stroke=\"black\" d=\"M176.643,-50C176.643,-50 87.2706,-50 87.2706,-50 81.2706,-50 75.2706,-44 75.2706,-38 75.2706,-38 75.2706,-12 75.2706,-12 75.2706,-6 81.2706,-0 87.2706,-0 87.2706,-0 176.643,-0 176.643,-0 182.643,-0 188.643,-6 188.643,-12 188.643,-12 188.643,-38 188.643,-38 188.643,-44 182.643,-50 176.643,-50\"/>\n",
       "<text text-anchor=\"middle\" x=\"131.957\" y=\"-34.8\" font-family=\"Helvetica,sans-Serif\" font-size=\"14.00\">entropy = 0.987</text>\n",
       "<text text-anchor=\"middle\" x=\"131.957\" y=\"-20.8\" font-family=\"Helvetica,sans-Serif\" font-size=\"14.00\">samples = 74</text>\n",
       "<text text-anchor=\"middle\" x=\"131.957\" y=\"-6.8\" font-family=\"Helvetica,sans-Serif\" font-size=\"14.00\">value = [32, 42]</text>\n",
       "</g>\n",
       "<!-- 37&#45;&gt;39 -->\n",
       "<g id=\"edge15\" class=\"edge\"><title>37&#45;&gt;39</title>\n",
       "<path fill=\"none\" stroke=\"black\" d=\"M176.086,-85.9375C169.536,-77.0413 162.382,-67.3236 155.776,-58.352\"/>\n",
       "<polygon fill=\"black\" stroke=\"black\" points=\"158.397,-56.0077 149.649,-50.0301 152.76,-60.158 158.397,-56.0077\"/>\n",
       "</g>\n",
       "<!-- 40 -->\n",
       "<g id=\"node17\" class=\"node\"><title>40</title>\n",
       "<path fill=\"#66b3eb\" stroke=\"black\" d=\"M314.87,-50C314.87,-50 219.043,-50 219.043,-50 213.043,-50 207.043,-44 207.043,-38 207.043,-38 207.043,-12 207.043,-12 207.043,-6 213.043,-0 219.043,-0 219.043,-0 314.87,-0 314.87,-0 320.87,-0 326.87,-6 326.87,-12 326.87,-12 326.87,-38 326.87,-38 326.87,-44 320.87,-50 314.87,-50\"/>\n",
       "<text text-anchor=\"middle\" x=\"266.957\" y=\"-34.8\" font-family=\"Helvetica,sans-Serif\" font-size=\"14.00\">entropy = 0.692</text>\n",
       "<text text-anchor=\"middle\" x=\"266.957\" y=\"-20.8\" font-family=\"Helvetica,sans-Serif\" font-size=\"14.00\">samples = 361</text>\n",
       "<text text-anchor=\"middle\" x=\"266.957\" y=\"-6.8\" font-family=\"Helvetica,sans-Serif\" font-size=\"14.00\">value = [67, 294]</text>\n",
       "</g>\n",
       "<!-- 37&#45;&gt;40 -->\n",
       "<g id=\"edge16\" class=\"edge\"><title>37&#45;&gt;40</title>\n",
       "<path fill=\"none\" stroke=\"black\" d=\"M222.168,-85.9375C228.884,-76.9496 236.227,-67.1231 242.989,-58.0747\"/>\n",
       "<polygon fill=\"black\" stroke=\"black\" points=\"245.818,-60.1357 249,-50.0301 240.21,-55.9456 245.818,-60.1357\"/>\n",
       "</g>\n",
       "<!-- 27 -->\n",
       "<g id=\"node20\" class=\"node\"><title>27</title>\n",
       "<path fill=\"#a1d1f3\" stroke=\"black\" d=\"M531.87,-150C531.87,-150 436.043,-150 436.043,-150 430.043,-150 424.043,-144 424.043,-138 424.043,-138 424.043,-98 424.043,-98 424.043,-92 430.043,-86 436.043,-86 436.043,-86 531.87,-86 531.87,-86 537.87,-86 543.87,-92 543.87,-98 543.87,-98 543.87,-138 543.87,-138 543.87,-144 537.87,-150 531.87,-150\"/>\n",
       "<text text-anchor=\"middle\" x=\"483.957\" y=\"-134.8\" font-family=\"Helvetica,sans-Serif\" font-size=\"14.00\">X[0] &lt;= &#45;0.162</text>\n",
       "<text text-anchor=\"middle\" x=\"483.957\" y=\"-120.8\" font-family=\"Helvetica,sans-Serif\" font-size=\"14.00\">entropy = 0.93</text>\n",
       "<text text-anchor=\"middle\" x=\"483.957\" y=\"-106.8\" font-family=\"Helvetica,sans-Serif\" font-size=\"14.00\">samples = 200</text>\n",
       "<text text-anchor=\"middle\" x=\"483.957\" y=\"-92.8\" font-family=\"Helvetica,sans-Serif\" font-size=\"14.00\">value = [69, 131]</text>\n",
       "</g>\n",
       "<!-- 22&#45;&gt;27 -->\n",
       "<g id=\"edge19\" class=\"edge\"><title>22&#45;&gt;27</title>\n",
       "<path fill=\"none\" stroke=\"black\" d=\"M485.324,-185.992C485.158,-177.859 484.976,-168.959 484.801,-160.378\"/>\n",
       "<polygon fill=\"black\" stroke=\"black\" points=\"488.296,-160.069 484.592,-150.142 481.297,-160.212 488.296,-160.069\"/>\n",
       "</g>\n",
       "<!-- 28 -->\n",
       "<g id=\"node23\" class=\"node\"><title>28</title>\n",
       "<path fill=\"#f7d9c4\" stroke=\"black\" d=\"M677.656,-143C677.656,-143 574.257,-143 574.257,-143 568.257,-143 562.257,-137 562.257,-131 562.257,-131 562.257,-105 562.257,-105 562.257,-99 568.257,-93 574.257,-93 574.257,-93 677.656,-93 677.656,-93 683.656,-93 689.656,-99 689.656,-105 689.656,-105 689.656,-131 689.656,-131 689.656,-137 683.656,-143 677.656,-143\"/>\n",
       "<text text-anchor=\"middle\" x=\"625.957\" y=\"-127.8\" font-family=\"Helvetica,sans-Serif\" font-size=\"14.00\">entropy = 0.978</text>\n",
       "<text text-anchor=\"middle\" x=\"625.957\" y=\"-113.8\" font-family=\"Helvetica,sans-Serif\" font-size=\"14.00\">samples = 257</text>\n",
       "<text text-anchor=\"middle\" x=\"625.957\" y=\"-99.8\" font-family=\"Helvetica,sans-Serif\" font-size=\"14.00\">value = [151, 106]</text>\n",
       "</g>\n",
       "<!-- 22&#45;&gt;28 -->\n",
       "<g id=\"edge22\" class=\"edge\"><title>22&#45;&gt;28</title>\n",
       "<path fill=\"none\" stroke=\"black\" d=\"M530.253,-185.992C547.035,-174.245 566.105,-160.896 582.782,-149.222\"/>\n",
       "<polygon fill=\"black\" stroke=\"black\" points=\"585.075,-151.89 591.26,-143.288 581.06,-146.155 585.075,-151.89\"/>\n",
       "</g>\n",
       "<!-- 35 -->\n",
       "<g id=\"node21\" class=\"node\"><title>35</title>\n",
       "<path fill=\"#fae5d6\" stroke=\"black\" d=\"M486.084,-50C486.084,-50 397.83,-50 397.83,-50 391.83,-50 385.83,-44 385.83,-38 385.83,-38 385.83,-12 385.83,-12 385.83,-6 391.83,-0 397.83,-0 397.83,-0 486.084,-0 486.084,-0 492.084,-0 498.084,-6 498.084,-12 498.084,-12 498.084,-38 498.084,-38 498.084,-44 492.084,-50 486.084,-50\"/>\n",
       "<text text-anchor=\"middle\" x=\"441.957\" y=\"-34.8\" font-family=\"Helvetica,sans-Serif\" font-size=\"14.00\">entropy = 0.99</text>\n",
       "<text text-anchor=\"middle\" x=\"441.957\" y=\"-20.8\" font-family=\"Helvetica,sans-Serif\" font-size=\"14.00\">samples = 61</text>\n",
       "<text text-anchor=\"middle\" x=\"441.957\" y=\"-6.8\" font-family=\"Helvetica,sans-Serif\" font-size=\"14.00\">value = [34, 27]</text>\n",
       "</g>\n",
       "<!-- 27&#45;&gt;35 -->\n",
       "<g id=\"edge20\" class=\"edge\"><title>27&#45;&gt;35</title>\n",
       "<path fill=\"none\" stroke=\"black\" d=\"M469.62,-85.9375C465.641,-77.3164 461.306,-67.9239 457.273,-59.1865\"/>\n",
       "<polygon fill=\"black\" stroke=\"black\" points=\"460.416,-57.643 453.047,-50.0301 454.06,-60.5764 460.416,-57.643\"/>\n",
       "</g>\n",
       "<!-- 36 -->\n",
       "<g id=\"node22\" class=\"node\"><title>36</title>\n",
       "<path fill=\"#7cbeee\" stroke=\"black\" d=\"M623.87,-50C623.87,-50 528.043,-50 528.043,-50 522.043,-50 516.043,-44 516.043,-38 516.043,-38 516.043,-12 516.043,-12 516.043,-6 522.043,-0 528.043,-0 528.043,-0 623.87,-0 623.87,-0 629.87,-0 635.87,-6 635.87,-12 635.87,-12 635.87,-38 635.87,-38 635.87,-44 629.87,-50 623.87,-50\"/>\n",
       "<text text-anchor=\"middle\" x=\"575.957\" y=\"-34.8\" font-family=\"Helvetica,sans-Serif\" font-size=\"14.00\">entropy = 0.814</text>\n",
       "<text text-anchor=\"middle\" x=\"575.957\" y=\"-20.8\" font-family=\"Helvetica,sans-Serif\" font-size=\"14.00\">samples = 139</text>\n",
       "<text text-anchor=\"middle\" x=\"575.957\" y=\"-6.8\" font-family=\"Helvetica,sans-Serif\" font-size=\"14.00\">value = [35, 104]</text>\n",
       "</g>\n",
       "<!-- 27&#45;&gt;36 -->\n",
       "<g id=\"edge21\" class=\"edge\"><title>27&#45;&gt;36</title>\n",
       "<path fill=\"none\" stroke=\"black\" d=\"M515.36,-85.9375C524.725,-76.6744 534.991,-66.5207 544.367,-57.246\"/>\n",
       "<polygon fill=\"black\" stroke=\"black\" points=\"547.014,-59.5508 551.662,-50.0301 542.091,-54.5741 547.014,-59.5508\"/>\n",
       "</g>\n",
       "<!-- 29 -->\n",
       "<g id=\"node25\" class=\"node\"><title>29</title>\n",
       "<path fill=\"#4aa6e7\" stroke=\"black\" d=\"M675.87,-243C675.87,-243 580.043,-243 580.043,-243 574.043,-243 568.043,-237 568.043,-231 568.043,-231 568.043,-205 568.043,-205 568.043,-199 574.043,-193 580.043,-193 580.043,-193 675.87,-193 675.87,-193 681.87,-193 687.87,-199 687.87,-205 687.87,-205 687.87,-231 687.87,-231 687.87,-237 681.87,-243 675.87,-243\"/>\n",
       "<text text-anchor=\"middle\" x=\"627.957\" y=\"-227.8\" font-family=\"Helvetica,sans-Serif\" font-size=\"14.00\">entropy = 0.405</text>\n",
       "<text text-anchor=\"middle\" x=\"627.957\" y=\"-213.8\" font-family=\"Helvetica,sans-Serif\" font-size=\"14.00\">samples = 223</text>\n",
       "<text text-anchor=\"middle\" x=\"627.957\" y=\"-199.8\" font-family=\"Helvetica,sans-Serif\" font-size=\"14.00\">value = [18, 205]</text>\n",
       "</g>\n",
       "<!-- 12&#45;&gt;29 -->\n",
       "<g id=\"edge24\" class=\"edge\"><title>12&#45;&gt;29</title>\n",
       "<path fill=\"none\" stroke=\"black\" d=\"M627.957,-285.992C627.957,-275.646 627.957,-264.057 627.957,-253.465\"/>\n",
       "<polygon fill=\"black\" stroke=\"black\" points=\"631.457,-253.288 627.957,-243.288 624.457,-253.288 631.457,-253.288\"/>\n",
       "</g>\n",
       "<!-- 30 -->\n",
       "<g id=\"node26\" class=\"node\"><title>30</title>\n",
       "<path fill=\"#399de5\" stroke=\"black\" d=\"M806.084,-243C806.084,-243 717.83,-243 717.83,-243 711.83,-243 705.83,-237 705.83,-231 705.83,-231 705.83,-205 705.83,-205 705.83,-199 711.83,-193 717.83,-193 717.83,-193 806.084,-193 806.084,-193 812.084,-193 818.084,-199 818.084,-205 818.084,-205 818.084,-231 818.084,-231 818.084,-237 812.084,-243 806.084,-243\"/>\n",
       "<text text-anchor=\"middle\" x=\"761.957\" y=\"-227.8\" font-family=\"Helvetica,sans-Serif\" font-size=\"14.00\">entropy = 0.0</text>\n",
       "<text text-anchor=\"middle\" x=\"761.957\" y=\"-213.8\" font-family=\"Helvetica,sans-Serif\" font-size=\"14.00\">samples = 236</text>\n",
       "<text text-anchor=\"middle\" x=\"761.957\" y=\"-199.8\" font-family=\"Helvetica,sans-Serif\" font-size=\"14.00\">value = [0, 236]</text>\n",
       "</g>\n",
       "<!-- 12&#45;&gt;30 -->\n",
       "<g id=\"edge25\" class=\"edge\"><title>12&#45;&gt;30</title>\n",
       "<path fill=\"none\" stroke=\"black\" d=\"M670.355,-285.992C686.417,-274.245 704.67,-260.896 720.632,-249.222\"/>\n",
       "<polygon fill=\"black\" stroke=\"black\" points=\"722.741,-252.016 728.747,-243.288 718.609,-246.366 722.741,-252.016\"/>\n",
       "</g>\n",
       "<!-- 5 -->\n",
       "<g id=\"node28\" class=\"node\"><title>5</title>\n",
       "<path fill=\"#e99558\" stroke=\"black\" d=\"M1289.94,-550C1289.94,-550 1177.97,-550 1177.97,-550 1171.97,-550 1165.97,-544 1165.97,-538 1165.97,-538 1165.97,-498 1165.97,-498 1165.97,-492 1171.97,-486 1177.97,-486 1177.97,-486 1289.94,-486 1289.94,-486 1295.94,-486 1301.94,-492 1301.94,-498 1301.94,-498 1301.94,-538 1301.94,-538 1301.94,-544 1295.94,-550 1289.94,-550\"/>\n",
       "<text text-anchor=\"middle\" x=\"1233.96\" y=\"-534.8\" font-family=\"Helvetica,sans-Serif\" font-size=\"14.00\">X[1] &lt;= 0.855</text>\n",
       "<text text-anchor=\"middle\" x=\"1233.96\" y=\"-520.8\" font-family=\"Helvetica,sans-Serif\" font-size=\"14.00\">entropy = 0.569</text>\n",
       "<text text-anchor=\"middle\" x=\"1233.96\" y=\"-506.8\" font-family=\"Helvetica,sans-Serif\" font-size=\"14.00\">samples = 3355</text>\n",
       "<text text-anchor=\"middle\" x=\"1233.96\" y=\"-492.8\" font-family=\"Helvetica,sans-Serif\" font-size=\"14.00\">value = [2905, 450]</text>\n",
       "</g>\n",
       "<!-- 2&#45;&gt;5 -->\n",
       "<g id=\"edge27\" class=\"edge\"><title>2&#45;&gt;5</title>\n",
       "<path fill=\"none\" stroke=\"black\" d=\"M1233.96,-585.992C1233.96,-577.859 1233.96,-568.959 1233.96,-560.378\"/>\n",
       "<polygon fill=\"black\" stroke=\"black\" points=\"1237.46,-560.142 1233.96,-550.142 1230.46,-560.142 1237.46,-560.142\"/>\n",
       "</g>\n",
       "<!-- 6 -->\n",
       "<g id=\"node43\" class=\"node\"><title>6</title>\n",
       "<path fill=\"#55abe9\" stroke=\"black\" d=\"M1499.87,-550C1499.87,-550 1404.04,-550 1404.04,-550 1398.04,-550 1392.04,-544 1392.04,-538 1392.04,-538 1392.04,-498 1392.04,-498 1392.04,-492 1398.04,-486 1404.04,-486 1404.04,-486 1499.87,-486 1499.87,-486 1505.87,-486 1511.87,-492 1511.87,-498 1511.87,-498 1511.87,-538 1511.87,-538 1511.87,-544 1505.87,-550 1499.87,-550\"/>\n",
       "<text text-anchor=\"middle\" x=\"1451.96\" y=\"-534.8\" font-family=\"Helvetica,sans-Serif\" font-size=\"14.00\">X[0] &lt;= 1.782</text>\n",
       "<text text-anchor=\"middle\" x=\"1451.96\" y=\"-520.8\" font-family=\"Helvetica,sans-Serif\" font-size=\"14.00\">entropy = 0.542</text>\n",
       "<text text-anchor=\"middle\" x=\"1451.96\" y=\"-506.8\" font-family=\"Helvetica,sans-Serif\" font-size=\"14.00\">samples = 370</text>\n",
       "<text text-anchor=\"middle\" x=\"1451.96\" y=\"-492.8\" font-family=\"Helvetica,sans-Serif\" font-size=\"14.00\">value = [46, 324]</text>\n",
       "</g>\n",
       "<!-- 2&#45;&gt;6 -->\n",
       "<g id=\"edge42\" class=\"edge\"><title>2&#45;&gt;6</title>\n",
       "<path fill=\"none\" stroke=\"black\" d=\"M1301.74,-586.529C1327.45,-574.97 1356.76,-561.796 1382.61,-550.173\"/>\n",
       "<polygon fill=\"black\" stroke=\"black\" points=\"1384.28,-553.259 1391.97,-545.966 1381.41,-546.874 1384.28,-553.259\"/>\n",
       "</g>\n",
       "<!-- 9 -->\n",
       "<g id=\"node29\" class=\"node\"><title>9</title>\n",
       "<path fill=\"#eca26d\" stroke=\"black\" d=\"M1218.94,-450C1218.94,-450 1106.97,-450 1106.97,-450 1100.97,-450 1094.97,-444 1094.97,-438 1094.97,-438 1094.97,-398 1094.97,-398 1094.97,-392 1100.97,-386 1106.97,-386 1106.97,-386 1218.94,-386 1218.94,-386 1224.94,-386 1230.94,-392 1230.94,-398 1230.94,-398 1230.94,-438 1230.94,-438 1230.94,-444 1224.94,-450 1218.94,-450\"/>\n",
       "<text text-anchor=\"middle\" x=\"1162.96\" y=\"-434.8\" font-family=\"Helvetica,sans-Serif\" font-size=\"14.00\">X[0] &lt;= &#45;0.588</text>\n",
       "<text text-anchor=\"middle\" x=\"1162.96\" y=\"-420.8\" font-family=\"Helvetica,sans-Serif\" font-size=\"14.00\">entropy = 0.737</text>\n",
       "<text text-anchor=\"middle\" x=\"1162.96\" y=\"-406.8\" font-family=\"Helvetica,sans-Serif\" font-size=\"14.00\">samples = 1947</text>\n",
       "<text text-anchor=\"middle\" x=\"1162.96\" y=\"-392.8\" font-family=\"Helvetica,sans-Serif\" font-size=\"14.00\">value = [1543, 404]</text>\n",
       "</g>\n",
       "<!-- 5&#45;&gt;9 -->\n",
       "<g id=\"edge28\" class=\"edge\"><title>5&#45;&gt;9</title>\n",
       "<path fill=\"none\" stroke=\"black\" d=\"M1211.49,-485.992C1205.15,-477.234 1198.16,-467.585 1191.5,-458.404\"/>\n",
       "<polygon fill=\"black\" stroke=\"black\" points=\"1194.22,-456.187 1185.52,-450.142 1188.55,-460.294 1194.22,-456.187\"/>\n",
       "</g>\n",
       "<!-- 10 -->\n",
       "<g id=\"node40\" class=\"node\"><title>10</title>\n",
       "<path fill=\"#e68540\" stroke=\"black\" d=\"M1364.66,-450C1364.66,-450 1261.26,-450 1261.26,-450 1255.26,-450 1249.26,-444 1249.26,-438 1249.26,-438 1249.26,-398 1249.26,-398 1249.26,-392 1255.26,-386 1261.26,-386 1261.26,-386 1364.66,-386 1364.66,-386 1370.66,-386 1376.66,-392 1376.66,-398 1376.66,-398 1376.66,-438 1376.66,-438 1376.66,-444 1370.66,-450 1364.66,-450\"/>\n",
       "<text text-anchor=\"middle\" x=\"1312.96\" y=\"-434.8\" font-family=\"Helvetica,sans-Serif\" font-size=\"14.00\">X[1] &lt;= 1.125</text>\n",
       "<text text-anchor=\"middle\" x=\"1312.96\" y=\"-420.8\" font-family=\"Helvetica,sans-Serif\" font-size=\"14.00\">entropy = 0.208</text>\n",
       "<text text-anchor=\"middle\" x=\"1312.96\" y=\"-406.8\" font-family=\"Helvetica,sans-Serif\" font-size=\"14.00\">samples = 1408</text>\n",
       "<text text-anchor=\"middle\" x=\"1312.96\" y=\"-392.8\" font-family=\"Helvetica,sans-Serif\" font-size=\"14.00\">value = [1362, 46]</text>\n",
       "</g>\n",
       "<!-- 5&#45;&gt;10 -->\n",
       "<g id=\"edge39\" class=\"edge\"><title>5&#45;&gt;10</title>\n",
       "<path fill=\"none\" stroke=\"black\" d=\"M1258.95,-485.992C1266.09,-477.144 1273.95,-467.388 1281.42,-458.123\"/>\n",
       "<polygon fill=\"black\" stroke=\"black\" points=\"1284.3,-460.124 1287.85,-450.142 1278.85,-455.731 1284.3,-460.124\"/>\n",
       "</g>\n",
       "<!-- 13 -->\n",
       "<g id=\"node30\" class=\"node\"><title>13</title>\n",
       "<path fill=\"#e68640\" stroke=\"black\" d=\"M1070.87,-350C1070.87,-350 975.043,-350 975.043,-350 969.043,-350 963.043,-344 963.043,-338 963.043,-338 963.043,-298 963.043,-298 963.043,-292 969.043,-286 975.043,-286 975.043,-286 1070.87,-286 1070.87,-286 1076.87,-286 1082.87,-292 1082.87,-298 1082.87,-298 1082.87,-338 1082.87,-338 1082.87,-344 1076.87,-350 1070.87,-350\"/>\n",
       "<text text-anchor=\"middle\" x=\"1022.96\" y=\"-334.8\" font-family=\"Helvetica,sans-Serif\" font-size=\"14.00\">X[0] &lt;= &#45;0.929</text>\n",
       "<text text-anchor=\"middle\" x=\"1022.96\" y=\"-320.8\" font-family=\"Helvetica,sans-Serif\" font-size=\"14.00\">entropy = 0.224</text>\n",
       "<text text-anchor=\"middle\" x=\"1022.96\" y=\"-306.8\" font-family=\"Helvetica,sans-Serif\" font-size=\"14.00\">samples = 444</text>\n",
       "<text text-anchor=\"middle\" x=\"1022.96\" y=\"-292.8\" font-family=\"Helvetica,sans-Serif\" font-size=\"14.00\">value = [428, 16]</text>\n",
       "</g>\n",
       "<!-- 9&#45;&gt;13 -->\n",
       "<g id=\"edge29\" class=\"edge\"><title>9&#45;&gt;13</title>\n",
       "<path fill=\"none\" stroke=\"black\" d=\"M1118.66,-385.992C1105,-376.429 1089.82,-365.805 1075.65,-355.887\"/>\n",
       "<polygon fill=\"black\" stroke=\"black\" points=\"1077.65,-353.01 1067.45,-350.142 1073.63,-358.744 1077.65,-353.01\"/>\n",
       "</g>\n",
       "<!-- 14 -->\n",
       "<g id=\"node33\" class=\"node\"><title>14</title>\n",
       "<path fill=\"#eead7e\" stroke=\"black\" d=\"M1222.88,-350C1222.88,-350 1113.03,-350 1113.03,-350 1107.03,-350 1101.03,-344 1101.03,-338 1101.03,-338 1101.03,-298 1101.03,-298 1101.03,-292 1107.03,-286 1113.03,-286 1113.03,-286 1222.88,-286 1222.88,-286 1228.88,-286 1234.88,-292 1234.88,-298 1234.88,-298 1234.88,-338 1234.88,-338 1234.88,-344 1228.88,-350 1222.88,-350\"/>\n",
       "<text text-anchor=\"middle\" x=\"1167.96\" y=\"-334.8\" font-family=\"Helvetica,sans-Serif\" font-size=\"14.00\">X[1] &lt;= 0.501</text>\n",
       "<text text-anchor=\"middle\" x=\"1167.96\" y=\"-320.8\" font-family=\"Helvetica,sans-Serif\" font-size=\"14.00\">entropy = 0.824</text>\n",
       "<text text-anchor=\"middle\" x=\"1167.96\" y=\"-306.8\" font-family=\"Helvetica,sans-Serif\" font-size=\"14.00\">samples = 1503</text>\n",
       "<text text-anchor=\"middle\" x=\"1167.96\" y=\"-292.8\" font-family=\"Helvetica,sans-Serif\" font-size=\"14.00\">value = [1115, 388]</text>\n",
       "</g>\n",
       "<!-- 9&#45;&gt;14 -->\n",
       "<g id=\"edge32\" class=\"edge\"><title>9&#45;&gt;14</title>\n",
       "<path fill=\"none\" stroke=\"black\" d=\"M1164.54,-385.992C1164.95,-377.859 1165.41,-368.959 1165.85,-360.378\"/>\n",
       "<polygon fill=\"black\" stroke=\"black\" points=\"1169.35,-360.308 1166.37,-350.142 1162.36,-359.951 1169.35,-360.308\"/>\n",
       "</g>\n",
       "<!-- 33 -->\n",
       "<g id=\"node31\" class=\"node\"><title>33</title>\n",
       "<path fill=\"#e58139\" stroke=\"black\" d=\"M936.084,-243C936.084,-243 847.83,-243 847.83,-243 841.83,-243 835.83,-237 835.83,-231 835.83,-231 835.83,-205 835.83,-205 835.83,-199 841.83,-193 847.83,-193 847.83,-193 936.084,-193 936.084,-193 942.084,-193 948.084,-199 948.084,-205 948.084,-205 948.084,-231 948.084,-231 948.084,-237 942.084,-243 936.084,-243\"/>\n",
       "<text text-anchor=\"middle\" x=\"891.957\" y=\"-227.8\" font-family=\"Helvetica,sans-Serif\" font-size=\"14.00\">entropy = 0.0</text>\n",
       "<text text-anchor=\"middle\" x=\"891.957\" y=\"-213.8\" font-family=\"Helvetica,sans-Serif\" font-size=\"14.00\">samples = 216</text>\n",
       "<text text-anchor=\"middle\" x=\"891.957\" y=\"-199.8\" font-family=\"Helvetica,sans-Serif\" font-size=\"14.00\">value = [216, 0]</text>\n",
       "</g>\n",
       "<!-- 13&#45;&gt;33 -->\n",
       "<g id=\"edge30\" class=\"edge\"><title>13&#45;&gt;33</title>\n",
       "<path fill=\"none\" stroke=\"black\" d=\"M981.507,-285.992C965.949,-274.353 948.288,-261.141 932.786,-249.544\"/>\n",
       "<polygon fill=\"black\" stroke=\"black\" points=\"934.527,-246.475 924.423,-243.288 930.333,-252.08 934.527,-246.475\"/>\n",
       "</g>\n",
       "<!-- 34 -->\n",
       "<g id=\"node32\" class=\"node\"><title>34</title>\n",
       "<path fill=\"#e78b48\" stroke=\"black\" d=\"M1073.87,-243C1073.87,-243 978.043,-243 978.043,-243 972.043,-243 966.043,-237 966.043,-231 966.043,-231 966.043,-205 966.043,-205 966.043,-199 972.043,-193 978.043,-193 978.043,-193 1073.87,-193 1073.87,-193 1079.87,-193 1085.87,-199 1085.87,-205 1085.87,-205 1085.87,-231 1085.87,-231 1085.87,-237 1079.87,-243 1073.87,-243\"/>\n",
       "<text text-anchor=\"middle\" x=\"1025.96\" y=\"-227.8\" font-family=\"Helvetica,sans-Serif\" font-size=\"14.00\">entropy = 0.367</text>\n",
       "<text text-anchor=\"middle\" x=\"1025.96\" y=\"-213.8\" font-family=\"Helvetica,sans-Serif\" font-size=\"14.00\">samples = 228</text>\n",
       "<text text-anchor=\"middle\" x=\"1025.96\" y=\"-199.8\" font-family=\"Helvetica,sans-Serif\" font-size=\"14.00\">value = [212, 16]</text>\n",
       "</g>\n",
       "<!-- 13&#45;&gt;34 -->\n",
       "<g id=\"edge31\" class=\"edge\"><title>13&#45;&gt;34</title>\n",
       "<path fill=\"none\" stroke=\"black\" d=\"M1023.91,-285.992C1024.22,-275.646 1024.58,-264.057 1024.9,-253.465\"/>\n",
       "<polygon fill=\"black\" stroke=\"black\" points=\"1028.41,-253.39 1025.21,-243.288 1021.41,-253.176 1028.41,-253.39\"/>\n",
       "</g>\n",
       "<!-- 17 -->\n",
       "<g id=\"node34\" class=\"node\"><title>17</title>\n",
       "<path fill=\"#f4caab\" stroke=\"black\" d=\"M1219.66,-243C1219.66,-243 1116.26,-243 1116.26,-243 1110.26,-243 1104.26,-237 1104.26,-231 1104.26,-231 1104.26,-205 1104.26,-205 1104.26,-199 1110.26,-193 1116.26,-193 1116.26,-193 1219.66,-193 1219.66,-193 1225.66,-193 1231.66,-199 1231.66,-205 1231.66,-205 1231.66,-231 1231.66,-231 1231.66,-237 1225.66,-243 1219.66,-243\"/>\n",
       "<text text-anchor=\"middle\" x=\"1167.96\" y=\"-227.8\" font-family=\"Helvetica,sans-Serif\" font-size=\"14.00\">entropy = 0.948</text>\n",
       "<text text-anchor=\"middle\" x=\"1167.96\" y=\"-213.8\" font-family=\"Helvetica,sans-Serif\" font-size=\"14.00\">samples = 579</text>\n",
       "<text text-anchor=\"middle\" x=\"1167.96\" y=\"-199.8\" font-family=\"Helvetica,sans-Serif\" font-size=\"14.00\">value = [367, 212]</text>\n",
       "</g>\n",
       "<!-- 14&#45;&gt;17 -->\n",
       "<g id=\"edge33\" class=\"edge\"><title>14&#45;&gt;17</title>\n",
       "<path fill=\"none\" stroke=\"black\" d=\"M1167.96,-285.992C1167.96,-275.646 1167.96,-264.057 1167.96,-253.465\"/>\n",
       "<polygon fill=\"black\" stroke=\"black\" points=\"1171.46,-253.288 1167.96,-243.288 1164.46,-253.288 1171.46,-253.288\"/>\n",
       "</g>\n",
       "<!-- 18 -->\n",
       "<g id=\"node35\" class=\"node\"><title>18</title>\n",
       "<path fill=\"#eb9f68\" stroke=\"black\" d=\"M1365.66,-250C1365.66,-250 1262.26,-250 1262.26,-250 1256.26,-250 1250.26,-244 1250.26,-238 1250.26,-238 1250.26,-198 1250.26,-198 1250.26,-192 1256.26,-186 1262.26,-186 1262.26,-186 1365.66,-186 1365.66,-186 1371.66,-186 1377.66,-192 1377.66,-198 1377.66,-198 1377.66,-238 1377.66,-238 1377.66,-244 1371.66,-250 1365.66,-250\"/>\n",
       "<text text-anchor=\"middle\" x=\"1313.96\" y=\"-234.8\" font-family=\"Helvetica,sans-Serif\" font-size=\"14.00\">X[0] &lt;= 0.53</text>\n",
       "<text text-anchor=\"middle\" x=\"1313.96\" y=\"-220.8\" font-family=\"Helvetica,sans-Serif\" font-size=\"14.00\">entropy = 0.702</text>\n",
       "<text text-anchor=\"middle\" x=\"1313.96\" y=\"-206.8\" font-family=\"Helvetica,sans-Serif\" font-size=\"14.00\">samples = 924</text>\n",
       "<text text-anchor=\"middle\" x=\"1313.96\" y=\"-192.8\" font-family=\"Helvetica,sans-Serif\" font-size=\"14.00\">value = [748, 176]</text>\n",
       "</g>\n",
       "<!-- 14&#45;&gt;18 -->\n",
       "<g id=\"edge34\" class=\"edge\"><title>14&#45;&gt;18</title>\n",
       "<path fill=\"none\" stroke=\"black\" d=\"M1214.15,-285.992C1228.4,-276.429 1244.23,-265.805 1259,-255.887\"/>\n",
       "<polygon fill=\"black\" stroke=\"black\" points=\"1261.21,-258.622 1267.56,-250.142 1257.31,-252.81 1261.21,-258.622\"/>\n",
       "</g>\n",
       "<!-- 41 -->\n",
       "<g id=\"node36\" class=\"node\"><title>41</title>\n",
       "<path fill=\"#eda674\" stroke=\"black\" d=\"M1294.66,-143C1294.66,-143 1191.26,-143 1191.26,-143 1185.26,-143 1179.26,-137 1179.26,-131 1179.26,-131 1179.26,-105 1179.26,-105 1179.26,-99 1185.26,-93 1191.26,-93 1191.26,-93 1294.66,-93 1294.66,-93 1300.66,-93 1306.66,-99 1306.66,-105 1306.66,-105 1306.66,-131 1306.66,-131 1306.66,-137 1300.66,-143 1294.66,-143\"/>\n",
       "<text text-anchor=\"middle\" x=\"1242.96\" y=\"-127.8\" font-family=\"Helvetica,sans-Serif\" font-size=\"14.00\">entropy = 0.776</text>\n",
       "<text text-anchor=\"middle\" x=\"1242.96\" y=\"-113.8\" font-family=\"Helvetica,sans-Serif\" font-size=\"14.00\">samples = 595</text>\n",
       "<text text-anchor=\"middle\" x=\"1242.96\" y=\"-99.8\" font-family=\"Helvetica,sans-Serif\" font-size=\"14.00\">value = [459, 136]</text>\n",
       "</g>\n",
       "<!-- 18&#45;&gt;41 -->\n",
       "<g id=\"edge35\" class=\"edge\"><title>18&#45;&gt;41</title>\n",
       "<path fill=\"none\" stroke=\"black\" d=\"M1291.49,-185.992C1283.53,-175 1274.55,-162.604 1266.5,-151.491\"/>\n",
       "<polygon fill=\"black\" stroke=\"black\" points=\"1269.25,-149.332 1260.55,-143.288 1263.59,-153.439 1269.25,-149.332\"/>\n",
       "</g>\n",
       "<!-- 42 -->\n",
       "<g id=\"node37\" class=\"node\"><title>42</title>\n",
       "<path fill=\"#e99254\" stroke=\"black\" d=\"M1432.87,-150C1432.87,-150 1337.04,-150 1337.04,-150 1331.04,-150 1325.04,-144 1325.04,-138 1325.04,-138 1325.04,-98 1325.04,-98 1325.04,-92 1331.04,-86 1337.04,-86 1337.04,-86 1432.87,-86 1432.87,-86 1438.87,-86 1444.87,-92 1444.87,-98 1444.87,-98 1444.87,-138 1444.87,-138 1444.87,-144 1438.87,-150 1432.87,-150\"/>\n",
       "<text text-anchor=\"middle\" x=\"1384.96\" y=\"-134.8\" font-family=\"Helvetica,sans-Serif\" font-size=\"14.00\">X[0] &lt;= 1.221</text>\n",
       "<text text-anchor=\"middle\" x=\"1384.96\" y=\"-120.8\" font-family=\"Helvetica,sans-Serif\" font-size=\"14.00\">entropy = 0.534</text>\n",
       "<text text-anchor=\"middle\" x=\"1384.96\" y=\"-106.8\" font-family=\"Helvetica,sans-Serif\" font-size=\"14.00\">samples = 329</text>\n",
       "<text text-anchor=\"middle\" x=\"1384.96\" y=\"-92.8\" font-family=\"Helvetica,sans-Serif\" font-size=\"14.00\">value = [289, 40]</text>\n",
       "</g>\n",
       "<!-- 18&#45;&gt;42 -->\n",
       "<g id=\"edge36\" class=\"edge\"><title>18&#45;&gt;42</title>\n",
       "<path fill=\"none\" stroke=\"black\" d=\"M1336.42,-185.992C1342.77,-177.234 1349.76,-167.585 1356.41,-158.404\"/>\n",
       "<polygon fill=\"black\" stroke=\"black\" points=\"1359.36,-160.294 1362.39,-150.142 1353.69,-156.187 1359.36,-160.294\"/>\n",
       "</g>\n",
       "<!-- 43 -->\n",
       "<g id=\"node38\" class=\"node\"><title>43</title>\n",
       "<path fill=\"#e78d4b\" stroke=\"black\" d=\"M1364.87,-50C1364.87,-50 1269.04,-50 1269.04,-50 1263.04,-50 1257.04,-44 1257.04,-38 1257.04,-38 1257.04,-12 1257.04,-12 1257.04,-6 1263.04,-0 1269.04,-0 1269.04,-0 1364.87,-0 1364.87,-0 1370.87,-0 1376.87,-6 1376.87,-12 1376.87,-12 1376.87,-38 1376.87,-38 1376.87,-44 1370.87,-50 1364.87,-50\"/>\n",
       "<text text-anchor=\"middle\" x=\"1316.96\" y=\"-34.8\" font-family=\"Helvetica,sans-Serif\" font-size=\"14.00\">entropy = 0.42</text>\n",
       "<text text-anchor=\"middle\" x=\"1316.96\" y=\"-20.8\" font-family=\"Helvetica,sans-Serif\" font-size=\"14.00\">samples = 282</text>\n",
       "<text text-anchor=\"middle\" x=\"1316.96\" y=\"-6.8\" font-family=\"Helvetica,sans-Serif\" font-size=\"14.00\">value = [258, 24]</text>\n",
       "</g>\n",
       "<!-- 42&#45;&gt;43 -->\n",
       "<g id=\"edge37\" class=\"edge\"><title>42&#45;&gt;43</title>\n",
       "<path fill=\"none\" stroke=\"black\" d=\"M1361.74,-85.9375C1355.03,-76.9496 1347.69,-67.1231 1340.92,-58.0747\"/>\n",
       "<polygon fill=\"black\" stroke=\"black\" points=\"1343.7,-55.9456 1334.91,-50.0301 1338.1,-60.1357 1343.7,-55.9456\"/>\n",
       "</g>\n",
       "<!-- 44 -->\n",
       "<g id=\"node39\" class=\"node\"><title>44</title>\n",
       "<path fill=\"#f2c29f\" stroke=\"black\" d=\"M1496.64,-50C1496.64,-50 1407.27,-50 1407.27,-50 1401.27,-50 1395.27,-44 1395.27,-38 1395.27,-38 1395.27,-12 1395.27,-12 1395.27,-6 1401.27,-0 1407.27,-0 1407.27,-0 1496.64,-0 1496.64,-0 1502.64,-0 1508.64,-6 1508.64,-12 1508.64,-12 1508.64,-38 1508.64,-38 1508.64,-44 1502.64,-50 1496.64,-50\"/>\n",
       "<text text-anchor=\"middle\" x=\"1451.96\" y=\"-34.8\" font-family=\"Helvetica,sans-Serif\" font-size=\"14.00\">entropy = 0.925</text>\n",
       "<text text-anchor=\"middle\" x=\"1451.96\" y=\"-20.8\" font-family=\"Helvetica,sans-Serif\" font-size=\"14.00\">samples = 47</text>\n",
       "<text text-anchor=\"middle\" x=\"1451.96\" y=\"-6.8\" font-family=\"Helvetica,sans-Serif\" font-size=\"14.00\">value = [31, 16]</text>\n",
       "</g>\n",
       "<!-- 42&#45;&gt;44 -->\n",
       "<g id=\"edge38\" class=\"edge\"><title>42&#45;&gt;44</title>\n",
       "<path fill=\"none\" stroke=\"black\" d=\"M1407.83,-85.9375C1414.38,-77.0413 1421.53,-67.3236 1428.14,-58.352\"/>\n",
       "<polygon fill=\"black\" stroke=\"black\" points=\"1431.15,-60.158 1434.26,-50.0301 1425.52,-56.0077 1431.15,-60.158\"/>\n",
       "</g>\n",
       "<!-- 31 -->\n",
       "<g id=\"node41\" class=\"node\"><title>31</title>\n",
       "<path fill=\"#e68844\" stroke=\"black\" d=\"M1360.87,-343C1360.87,-343 1265.04,-343 1265.04,-343 1259.04,-343 1253.04,-337 1253.04,-331 1253.04,-331 1253.04,-305 1253.04,-305 1253.04,-299 1259.04,-293 1265.04,-293 1265.04,-293 1360.87,-293 1360.87,-293 1366.87,-293 1372.87,-299 1372.87,-305 1372.87,-305 1372.87,-331 1372.87,-331 1372.87,-337 1366.87,-343 1360.87,-343\"/>\n",
       "<text text-anchor=\"middle\" x=\"1312.96\" y=\"-327.8\" font-family=\"Helvetica,sans-Serif\" font-size=\"14.00\">entropy = 0.304</text>\n",
       "<text text-anchor=\"middle\" x=\"1312.96\" y=\"-313.8\" font-family=\"Helvetica,sans-Serif\" font-size=\"14.00\">samples = 718</text>\n",
       "<text text-anchor=\"middle\" x=\"1312.96\" y=\"-299.8\" font-family=\"Helvetica,sans-Serif\" font-size=\"14.00\">value = [679, 39]</text>\n",
       "</g>\n",
       "<!-- 10&#45;&gt;31 -->\n",
       "<g id=\"edge40\" class=\"edge\"><title>10&#45;&gt;31</title>\n",
       "<path fill=\"none\" stroke=\"black\" d=\"M1312.96,-385.992C1312.96,-375.646 1312.96,-364.057 1312.96,-353.465\"/>\n",
       "<polygon fill=\"black\" stroke=\"black\" points=\"1316.46,-353.288 1312.96,-343.288 1309.46,-353.288 1316.46,-353.288\"/>\n",
       "</g>\n",
       "<!-- 32 -->\n",
       "<g id=\"node42\" class=\"node\"><title>32</title>\n",
       "<path fill=\"#e5823b\" stroke=\"black\" d=\"M1492.64,-343C1492.64,-343 1403.27,-343 1403.27,-343 1397.27,-343 1391.27,-337 1391.27,-331 1391.27,-331 1391.27,-305 1391.27,-305 1391.27,-299 1397.27,-293 1403.27,-293 1403.27,-293 1492.64,-293 1492.64,-293 1498.64,-293 1504.64,-299 1504.64,-305 1504.64,-305 1504.64,-331 1504.64,-331 1504.64,-337 1498.64,-343 1492.64,-343\"/>\n",
       "<text text-anchor=\"middle\" x=\"1447.96\" y=\"-327.8\" font-family=\"Helvetica,sans-Serif\" font-size=\"14.00\">entropy = 0.082</text>\n",
       "<text text-anchor=\"middle\" x=\"1447.96\" y=\"-313.8\" font-family=\"Helvetica,sans-Serif\" font-size=\"14.00\">samples = 690</text>\n",
       "<text text-anchor=\"middle\" x=\"1447.96\" y=\"-299.8\" font-family=\"Helvetica,sans-Serif\" font-size=\"14.00\">value = [683, 7]</text>\n",
       "</g>\n",
       "<!-- 10&#45;&gt;32 -->\n",
       "<g id=\"edge41\" class=\"edge\"><title>10&#45;&gt;32</title>\n",
       "<path fill=\"none\" stroke=\"black\" d=\"M1355.67,-385.992C1371.85,-374.245 1390.24,-360.896 1406.32,-349.222\"/>\n",
       "<polygon fill=\"black\" stroke=\"black\" points=\"1408.46,-351.995 1414.5,-343.288 1404.35,-346.33 1408.46,-351.995\"/>\n",
       "</g>\n",
       "<!-- 19 -->\n",
       "<g id=\"node44\" class=\"node\"><title>19</title>\n",
       "<path fill=\"#8cc6f0\" stroke=\"black\" d=\"M1496.64,-443C1496.64,-443 1407.27,-443 1407.27,-443 1401.27,-443 1395.27,-437 1395.27,-431 1395.27,-431 1395.27,-405 1395.27,-405 1395.27,-399 1401.27,-393 1407.27,-393 1407.27,-393 1496.64,-393 1496.64,-393 1502.64,-393 1508.64,-399 1508.64,-405 1508.64,-405 1508.64,-431 1508.64,-431 1508.64,-437 1502.64,-443 1496.64,-443\"/>\n",
       "<text text-anchor=\"middle\" x=\"1451.96\" y=\"-427.8\" font-family=\"Helvetica,sans-Serif\" font-size=\"14.00\">entropy = 0.876</text>\n",
       "<text text-anchor=\"middle\" x=\"1451.96\" y=\"-413.8\" font-family=\"Helvetica,sans-Serif\" font-size=\"14.00\">samples = 132</text>\n",
       "<text text-anchor=\"middle\" x=\"1451.96\" y=\"-399.8\" font-family=\"Helvetica,sans-Serif\" font-size=\"14.00\">value = [39, 93]</text>\n",
       "</g>\n",
       "<!-- 6&#45;&gt;19 -->\n",
       "<g id=\"edge43\" class=\"edge\"><title>6&#45;&gt;19</title>\n",
       "<path fill=\"none\" stroke=\"black\" d=\"M1451.96,-485.992C1451.96,-475.646 1451.96,-464.057 1451.96,-453.465\"/>\n",
       "<polygon fill=\"black\" stroke=\"black\" points=\"1455.46,-453.288 1451.96,-443.288 1448.46,-453.288 1455.46,-453.288\"/>\n",
       "</g>\n",
       "<!-- 20 -->\n",
       "<g id=\"node45\" class=\"node\"><title>20</title>\n",
       "<path fill=\"#3fa0e6\" stroke=\"black\" d=\"M1628.64,-443C1628.64,-443 1539.27,-443 1539.27,-443 1533.27,-443 1527.27,-437 1527.27,-431 1527.27,-431 1527.27,-405 1527.27,-405 1527.27,-399 1533.27,-393 1539.27,-393 1539.27,-393 1628.64,-393 1628.64,-393 1634.64,-393 1640.64,-399 1640.64,-405 1640.64,-405 1640.64,-431 1640.64,-431 1640.64,-437 1634.64,-443 1628.64,-443\"/>\n",
       "<text text-anchor=\"middle\" x=\"1583.96\" y=\"-427.8\" font-family=\"Helvetica,sans-Serif\" font-size=\"14.00\">entropy = 0.191</text>\n",
       "<text text-anchor=\"middle\" x=\"1583.96\" y=\"-413.8\" font-family=\"Helvetica,sans-Serif\" font-size=\"14.00\">samples = 238</text>\n",
       "<text text-anchor=\"middle\" x=\"1583.96\" y=\"-399.8\" font-family=\"Helvetica,sans-Serif\" font-size=\"14.00\">value = [7, 231]</text>\n",
       "</g>\n",
       "<!-- 6&#45;&gt;20 -->\n",
       "<g id=\"edge44\" class=\"edge\"><title>6&#45;&gt;20</title>\n",
       "<path fill=\"none\" stroke=\"black\" d=\"M1493.72,-485.992C1509.4,-474.353 1527.2,-461.141 1542.82,-449.544\"/>\n",
       "<polygon fill=\"black\" stroke=\"black\" points=\"1545.3,-452.059 1551.24,-443.288 1541.13,-446.439 1545.3,-452.059\"/>\n",
       "</g>\n",
       "</g>\n",
       "</svg>\n"
      ],
      "text/plain": [
       "<graphviz.files.Source at 0x112657160>"
      ]
     },
     "execution_count": 35,
     "metadata": {},
     "output_type": "execute_result"
    }
   ],
   "source": [
    "# Visualize the Decision Tree (you need to have graphviz installed)\n",
    "from graphviz import Source\n",
    "from sklearn.tree import export_graphviz\n",
    "import os\n",
    "\n",
    "IMAGES_PATH = '/Users/laurencewilliams/BTS/Classical_Data_Analysis/bts-mbds-classical-data-analysis-2019/Own_Notebooks'\n",
    "\n",
    "# Call the export with Graphviz\n",
    "export_graphviz(\n",
    "        tree_clf,\n",
    "        out_file=os.path.join(IMAGES_PATH, \"moon_tree.dot\"),\n",
    "        #feature_names=moon.feature_names[2:],\n",
    "        #class_names=moon.target_names,\n",
    "        rounded=True,\n",
    "        filled=True\n",
    "    )\n",
    "\n",
    "# Load the file in the notebook\n",
    "Source.from_file(os.path.join(IMAGES_PATH, \"moon_tree.dot\"))"
   ]
  },
  {
   "cell_type": "markdown",
   "metadata": {
    "colab_type": "text",
    "id": "yLl306XHTFYU"
   },
   "source": [
    "### Visualize the split and the tree growth with the code above"
   ]
  },
  {
   "cell_type": "code",
   "execution_count": 38,
   "metadata": {
    "colab": {},
    "colab_type": "code",
    "id": "3Kd8YJ3JTMdO"
   },
   "outputs": [],
   "source": [
    "from matplotlib.colors import ListedColormap\n",
    "import numpy as np\n",
    "import matplotlib.pyplot as plt\n",
    "\n",
    "def plot_decision_boundary(clf, X, y, axes=[0, 7.5, 0, 3], iris=True, legend=False, plot_training=True):\n",
    "    x1s = np.linspace(axes[0], axes[1], 100)\n",
    "    x2s = np.linspace(axes[2], axes[3], 100)\n",
    "    x1, x2 = np.meshgrid(x1s, x2s)\n",
    "    X_new = np.c_[x1.ravel(), x2.ravel()]\n",
    "    y_pred = clf.predict(X_new).reshape(x1.shape)\n",
    "    custom_cmap = ListedColormap(['#fafab0','#9898ff','#a0faa0'])\n",
    "    plt.contourf(x1, x2, y_pred, alpha=0.3, cmap=custom_cmap)\n",
    "    if not iris:\n",
    "        custom_cmap2 = ListedColormap(['#7d7d58','#4c4c7f','#507d50'])\n",
    "        plt.contour(x1, x2, y_pred, cmap=custom_cmap2, alpha=0.8)\n",
    "    if plot_training:\n",
    "        plt.plot(X[:, 0][y==0], X[:, 1][y==0], \"yo\", label=\"Iris setosa\")\n",
    "        plt.plot(X[:, 0][y==1], X[:, 1][y==1], \"bs\", label=\"Iris versicolor\")\n",
    "        plt.plot(X[:, 0][y==2], X[:, 1][y==2], \"g^\", label=\"Iris virginica\")\n",
    "        plt.axis(axes)\n",
    "    if iris:\n",
    "        plt.xlabel(\"Petal length\", fontsize=14)\n",
    "        plt.ylabel(\"Petal width\", fontsize=14)\n",
    "    else:\n",
    "        plt.xlabel(r\"$x_1$\", fontsize=18)\n",
    "        plt.ylabel(r\"$x_2$\", fontsize=18, rotation=0)\n",
    "    if legend:\n",
    "        plt.legend(loc=\"lower right\", fontsize=14)"
   ]
  },
  {
   "cell_type": "code",
   "execution_count": 43,
   "metadata": {},
   "outputs": [
    {
     "data": {
      "image/png": "[encoded data removed]",
      "text/plain": [
       "<Figure size 432x288 with 1 Axes>"
      ]
     },
     "metadata": {
      "needs_background": "light"
     },
     "output_type": "display_data"
    }
   ],
   "source": [
    "plot_decision_boundary(tree_clf, X_test, y_test, iris=False)"
   ]
  },
  {
   "cell_type": "markdown",
   "metadata": {
    "colab_type": "text",
    "id": "oNzAxJRfS8kZ"
   },
   "source": [
    "### Evaluate the accuracy with test\n",
    "What did you get?"
   ]
  },
  {
   "cell_type": "code",
   "execution_count": 44,
   "metadata": {
    "colab": {},
    "colab_type": "code",
    "id": "aC6moaKATAMd"
   },
   "outputs": [
    {
     "name": "stdout",
     "output_type": "stream",
     "text": [
      "0.87\n"
     ]
    }
   ],
   "source": [
    "from sklearn.metrics import accuracy_score\n",
    "\n",
    "y_pred = tree_clf.predict(X_test)\n",
    "\n",
    "print(accuracy_score(y_test, y_pred))"
   ]
  },
  {
   "cell_type": "markdown",
   "metadata": {
    "colab_type": "text",
    "id": "VBI8yLwGn3ZT"
   },
   "source": [
    "## EXERCISE 2 - My first random forest\n",
    "\n",
    "You are already acquanted with the pitfalls of Decision Trees and might have an intutition of why Random Forest might be a good approach to address those pitfalls.\n",
    "\n",
    "In this exercise you will build your own random forest from scratch. Be creative, make use of for loops or any programmnig tool that you like. Let's go:"
   ]
  },
  {
   "cell_type": "markdown",
   "metadata": {
    "colab_type": "text",
    "id": "DhLPLwWLpV-E"
   },
   "source": [
    "## Part 1 - splitting the dataset to build a forest\n",
    "\n",
    "Go on with the exercise above, use the same datraset. But this time generate 1000 subsets of the **training** dataset, with each containing 100 instances selected in a random manner.\n",
    "\n",
    "You can code it by your own or use [Scikit-Learn ShuffleSplit class](https://scikit-learn.org/stable/modules/generated/sklearn.model_selection.ShuffleSplit.html)."
   ]
  },
  {
   "cell_type": "code",
   "execution_count": 97,
   "metadata": {
    "colab": {},
    "colab_type": "code",
    "id": "W0DVPxT2n6eH"
   },
   "outputs": [
    {
     "name": "stdout",
     "output_type": "stream",
     "text": [
      "ShuffleSplit(n_splits=10, random_state=0, test_size=0.2, train_size=None)\n",
      "10\n"
     ]
    }
   ],
   "source": [
    "from sklearn.model_selection import ShuffleSplit\n",
    "X, y = make_moons(n_samples=1000, noise=0.4, random_state=42)\n",
    "rs = ShuffleSplit(n_splits=10, test_size=.2, random_state=0)\n",
    "print(rs)\n",
    "print(rs.get_n_splits(X))"
   ]
  },
  {
   "cell_type": "code",
   "execution_count": 98,
   "metadata": {},
   "outputs": [
    {
     "name": "stdout",
     "output_type": "stream",
     "text": [
      "TRAIN: 800 TEST: 200\n",
      "TRAIN: 800 TEST: 200\n",
      "TRAIN: 800 TEST: 200\n",
      "TRAIN: 800 TEST: 200\n",
      "TRAIN: 800 TEST: 200\n",
      "TRAIN: 800 TEST: 200\n",
      "TRAIN: 800 TEST: 200\n",
      "TRAIN: 800 TEST: 200\n",
      "TRAIN: 800 TEST: 200\n",
      "TRAIN: 800 TEST: 200\n"
     ]
    }
   ],
   "source": [
    "for train_index, test_index in rs.split(X):\n",
    "    print(\"TRAIN:\", len(train_index), \"TEST:\", len(test_index))"
   ]
  },
  {
   "cell_type": "code",
   "execution_count": 100,
   "metadata": {},
   "outputs": [
    {
     "data": {
      "text/plain": [
       "array([2.34192327, 0.17459018])"
      ]
     },
     "execution_count": 100,
     "metadata": {},
     "output_type": "execute_result"
    }
   ],
   "source": [
    "X[349]"
   ]
  },
  {
   "cell_type": "code",
   "execution_count": 68,
   "metadata": {},
   "outputs": [],
   "source": [
    "for train_index, test_index in rs.split(X):\n",
    "    X_train = []\n",
    "    for i in train_index:\n",
    "        X_train[.append(X[i])"
   ]
  },
  {
   "cell_type": "markdown",
   "metadata": {
    "colab_type": "text",
    "id": "F4TkWjYZqBzy"
   },
   "source": [
    "## Part 2 - Train each subset!\n",
    "\n",
    "Use the best hyperparameters for the whole moons dataset that you found in the previous exercise. **Train one Decision Tree on each subset** (the subsets you just created in Part 1). \n",
    "\n",
    "Evaluate the 1000 Decision trees you trained over the test set. Create an empty list, and use the method you prefer to loop through each tree, evaluating over the test set and appending the results over the empty list. Once you have your list of accuracies, calculate the mean of all of them.\n",
    "\n",
    "This will most likely perform worse than the Decision Tree you trained with the whole train dataset, achieving not more than 80%. \n",
    "\n",
    "Place your final mean accuracy below."
   ]
  },
  {
   "cell_type": "code",
   "execution_count": 82,
   "metadata": {},
   "outputs": [],
   "source": [
    "clf_tree1 = DecisionTreeClassifier(criterion= 'entropy', max_leaf_nodes = 23, min_samples_split = 2, \n",
    "                                  random_state=42)"
   ]
  },
  {
   "cell_type": "code",
   "execution_count": 115,
   "metadata": {},
   "outputs": [],
   "source": [
    "trees_accuracies = []"
   ]
  },
  {
   "cell_type": "code",
   "execution_count": 116,
   "metadata": {},
   "outputs": [],
   "source": [
    "for train_index, test_index in rs.split(X):\n",
    "    X_train = []\n",
    "    X_test = []\n",
    "    y_test = []\n",
    "    y_train = []\n",
    "    for i in train_index:\n",
    "        X_train.append(X[i])\n",
    "        y_train.append(y[i])\n",
    "    for j in test_index:\n",
    "        X_test.append(X[j])\n",
    "        y_test.append(y[j])\n",
    "    clf_tree1.fit(X_train, y_train)\n",
    "    y_pred = clf_tree1.predict(X_test)\n",
    "    trees_accuracies.append(accuracy_score(y_test, y_pred))     "
   ]
  },
  {
   "cell_type": "code",
   "execution_count": 117,
   "metadata": {
    "scrolled": true
   },
   "outputs": [
    {
     "data": {
      "text/plain": [
       "[0.86, 0.83, 0.865, 0.815, 0.845, 0.89, 0.86, 0.885, 0.84, 0.86]"
      ]
     },
     "execution_count": 117,
     "metadata": {},
     "output_type": "execute_result"
    }
   ],
   "source": [
    "trees_accuracies"
   ]
  },
  {
   "cell_type": "code",
   "execution_count": 126,
   "metadata": {},
   "outputs": [
    {
     "data": {
      "text/plain": [
       "0.855"
      ]
     },
     "execution_count": 126,
     "metadata": {},
     "output_type": "execute_result"
    }
   ],
   "source": [
    "round(np.mean(trees_accuracies), 3)"
   ]
  },
  {
   "cell_type": "markdown",
   "metadata": {
    "colab_type": "text",
    "id": "tcmfJ8FCrrhC"
   },
   "source": [
    "## Part 3 - keeping the most frequent predictions\n",
    "\n",
    "Now we will keep only the most frequent predictions.\n",
    "\n",
    "For each test set **INSTANCE** or **SAMPLE**, generate the predictions of the 1000 Decision trees, and keep only the most frequent ones.\n",
    "\n",
    "For instance:\n",
    "\n",
    "* Test $y_0$ - prediction 1\n",
    "* Test $y_1$ - prediction 1\n",
    "* Test $y_2$ - prediction 0\n",
    "* Test $y_3$ - prediction 1\n",
    "* Test $y_4$ - prediction 1\n",
    "\n",
    "You will keep prediction = 1, as it is the most frequent. You can use SciPy's mode() function to achieve this. \n",
    "\n",
    "Now we have a majority-vote predictions over the whole test set, having the most common predictions for each instance over the test set. Keep this value as an array with the same shape as y_test."
   ]
  },
  {
   "cell_type": "code",
   "execution_count": 170,
   "metadata": {},
   "outputs": [],
   "source": [
    "most_predictions = []"
   ]
  },
  {
   "cell_type": "code",
   "execution_count": 171,
   "metadata": {},
   "outputs": [],
   "source": [
    "import statistics \n",
    "from statistics import mode \n",
    "for train_index, test_index in rs.split(X):\n",
    "    X_train = []\n",
    "    X_test = []\n",
    "    y_test = []\n",
    "    y_train = []\n",
    "    for i in train_index:\n",
    "        X_train.append(X[i])\n",
    "        y_train.append(y[i])\n",
    "    for j in test_index:\n",
    "        X_test.append(X[j])\n",
    "        y_test.append(y[j])\n",
    "    clf_tree1.fit(X_train, y_train)\n",
    "    y_pred = clf_tree1.predict(X_test)\n",
    "    try:\n",
    "        most_predictions.append(mode(y_pred))\n",
    "    except:\n",
    "        most_predictions.append(1) #favour 1 over 0;"
   ]
  },
  {
   "cell_type": "code",
   "execution_count": 174,
   "metadata": {
    "colab": {},
    "colab_type": "code",
    "id": "B4hdOKC5t3-R"
   },
   "outputs": [
    {
     "data": {
      "text/plain": [
       "[0, 0, 0, 1, 0, 1, 0, 1, 0, 1]"
      ]
     },
     "execution_count": 174,
     "metadata": {},
     "output_type": "execute_result"
    }
   ],
   "source": [
    "most_predictions"
   ]
  },
  {
   "cell_type": "code",
   "execution_count": 176,
   "metadata": {},
   "outputs": [
    {
     "data": {
      "text/html": [
       "<div>\n",
       "<style scoped>\n",
       "    .dataframe tbody tr th:only-of-type {\n",
       "        vertical-align: middle;\n",
       "    }\n",
       "\n",
       "    .dataframe tbody tr th {\n",
       "        vertical-align: top;\n",
       "    }\n",
       "\n",
       "    .dataframe thead th {\n",
       "        text-align: right;\n",
       "    }\n",
       "</style>\n",
       "<table border=\"1\" class=\"dataframe\">\n",
       "  <thead>\n",
       "    <tr style=\"text-align: right;\">\n",
       "      <th></th>\n",
       "      <th>Y_test</th>\n",
       "      <th>Prediction</th>\n",
       "    </tr>\n",
       "  </thead>\n",
       "  <tbody>\n",
       "    <tr>\n",
       "      <td>0</td>\n",
       "      <td>0</td>\n",
       "      <td>0</td>\n",
       "    </tr>\n",
       "    <tr>\n",
       "      <td>1</td>\n",
       "      <td>1</td>\n",
       "      <td>0</td>\n",
       "    </tr>\n",
       "    <tr>\n",
       "      <td>2</td>\n",
       "      <td>2</td>\n",
       "      <td>0</td>\n",
       "    </tr>\n",
       "    <tr>\n",
       "      <td>3</td>\n",
       "      <td>3</td>\n",
       "      <td>1</td>\n",
       "    </tr>\n",
       "    <tr>\n",
       "      <td>4</td>\n",
       "      <td>4</td>\n",
       "      <td>0</td>\n",
       "    </tr>\n",
       "    <tr>\n",
       "      <td>5</td>\n",
       "      <td>5</td>\n",
       "      <td>1</td>\n",
       "    </tr>\n",
       "    <tr>\n",
       "      <td>6</td>\n",
       "      <td>6</td>\n",
       "      <td>0</td>\n",
       "    </tr>\n",
       "    <tr>\n",
       "      <td>7</td>\n",
       "      <td>7</td>\n",
       "      <td>1</td>\n",
       "    </tr>\n",
       "    <tr>\n",
       "      <td>8</td>\n",
       "      <td>8</td>\n",
       "      <td>0</td>\n",
       "    </tr>\n",
       "    <tr>\n",
       "      <td>9</td>\n",
       "      <td>9</td>\n",
       "      <td>1</td>\n",
       "    </tr>\n",
       "  </tbody>\n",
       "</table>\n",
       "</div>"
      ],
      "text/plain": [
       "   Y_test  Prediction\n",
       "0       0           0\n",
       "1       1           0\n",
       "2       2           0\n",
       "3       3           1\n",
       "4       4           0\n",
       "5       5           1\n",
       "6       6           0\n",
       "7       7           1\n",
       "8       8           0\n",
       "9       9           1"
      ]
     },
     "execution_count": 176,
     "metadata": {},
     "output_type": "execute_result"
    }
   ],
   "source": [
    "import pandas as pd\n",
    "df = pd.DataFrame()\n",
    "df['Y_test'] = range(10)\n",
    "df['Prediction'] = most_predictions\n",
    "df"
   ]
  },
  {
   "cell_type": "markdown",
   "metadata": {
    "colab_type": "text",
    "id": "iLPao9oruAh5"
   },
   "source": [
    "## Part 4 - let's see what happens for accuracy!\n",
    "\n",
    "Use the array that you produced above with the most common predictions for each test instance. Compare it with the y_test set using the accuracy_score method.\n",
    "\n",
    "Basically, you should do the following:\n",
    "\n",
    "accuracy_score(my_y_test_dataset, my_most_common_predictions_over_y_dataset)\n",
    "\n",
    "You might need to reshape your most common predictions array so it will be the same shape as the y_test.\n",
    "\n",
    "You should get a slightly higher accuracy, maybe up to 1.5% higher. You just trained your first Random Forest classifier!!! Congratulations! Go an have a beer!\n",
    "\n",
    "But first, comment on why do you think that you are getting a better accuracy. Reflect on Decision Trees instabilities and why creating a Randomized Forest of Decision Trees might yield better results."
   ]
  },
  {
   "cell_type": "code",
   "execution_count": 185,
   "metadata": {},
   "outputs": [
    {
     "data": {
      "text/plain": [
       "[0, 0, 0, 1, 0, 1, 0, 1, 0, 1]"
      ]
     },
     "execution_count": 185,
     "metadata": {},
     "output_type": "execute_result"
    }
   ],
   "source": [
    "most_predictions"
   ]
  },
  {
   "cell_type": "code",
   "execution_count": 186,
   "metadata": {},
   "outputs": [],
   "source": [
    "most_common_pred = 20*most_predictions"
   ]
  },
  {
   "cell_type": "code",
   "execution_count": 192,
   "metadata": {},
   "outputs": [],
   "source": [
    "X, y = make_moons(n_samples=1000, noise=0.4, random_state=42)\n",
    "X_train, X_test, y_train, y_test = train_test_split(X, y, test_size = 0.2, random_state=42)"
   ]
  },
  {
   "cell_type": "code",
   "execution_count": 194,
   "metadata": {},
   "outputs": [
    {
     "data": {
      "text/plain": [
       "0.45"
      ]
     },
     "execution_count": 194,
     "metadata": {},
     "output_type": "execute_result"
    }
   ],
   "source": [
    "accuracy_score(y_test, most_common_pred)"
   ]
  },
  {
   "cell_type": "markdown",
   "metadata": {
    "colab_type": "text",
    "id": "iYIOkBscwKlx"
   },
   "source": [
    "## Place your reflections here:"
   ]
  },
  {
   "cell_type": "raw",
   "metadata": {
    "colab": {},
    "colab_type": "code",
    "id": "J2txhFq-wMn5"
   },
   "source": [
    "Not sure what is meant here in this last section.\n",
    "\n",
    "To discuss further in class."
   ]
  }
 ],
 "metadata": {
  "colab": {
   "collapsed_sections": [],
   "name": "Session_6_Classical_Data_Analysis_DT_EXERCISES.ipynb",
   "provenance": []
  },
  "kernelspec": {
   "display_name": "Python 3",
   "language": "python",
   "name": "python3"
  },
  "language_info": {
   "codemirror_mode": {
    "name": "ipython",
    "version": 3
   },
   "file_extension": ".py",
   "mimetype": "text/x-python",
   "name": "python",
   "nbconvert_exporter": "python",
   "pygments_lexer": "ipython3",
   "version": "3.6.7"
  }
 },
 "nbformat": 4,
 "nbformat_minor": 1
}
