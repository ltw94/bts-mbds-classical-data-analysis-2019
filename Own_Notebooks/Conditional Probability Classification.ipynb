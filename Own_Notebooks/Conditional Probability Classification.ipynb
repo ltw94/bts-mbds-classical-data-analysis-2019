{
 "cells": [
  {
   "cell_type": "markdown",
   "metadata": {},
   "source": [
    "## Conditional Probability Practice Questions:"
   ]
  },
  {
   "cell_type": "markdown",
   "metadata": {},
   "source": [
    "**1a) Probability test result is positive:**"
   ]
  },
  {
   "cell_type": "raw",
   "metadata": {},
   "source": [
    "P(T) = P(T|S)*P(S) + P(T|S')*P(S')\n",
    "P(T|S) = 0.95\n",
    "P(S) = 0.005\n",
    "P(T|S') = 0.1\n",
    "P(S') = 0.995"
   ]
  },
  {
   "cell_type": "code",
   "execution_count": 1,
   "metadata": {},
   "outputs": [
    {
     "name": "stdout",
     "output_type": "stream",
     "text": [
      "P(T) = 0.10425000000000001\n"
     ]
    }
   ],
   "source": [
    "print(\"P(T) =\", 0.95*0.005+ 0.1*0.995)"
   ]
  },
  {
   "cell_type": "markdown",
   "metadata": {},
   "source": [
    "**1b) Given positive result, probability person is a sufferer:**"
   ]
  },
  {
   "cell_type": "raw",
   "metadata": {},
   "source": [
    "P(T|S) = 0.95\n",
    "P(S) = 0.005\n",
    "P(T) = 0.1042"
   ]
  },
  {
   "cell_type": "raw",
   "metadata": {},
   "source": [
    "P(S|T) = P(T|S)*P(S)/P(T)"
   ]
  },
  {
   "cell_type": "code",
   "execution_count": 5,
   "metadata": {},
   "outputs": [
    {
     "name": "stdout",
     "output_type": "stream",
     "text": [
      "P(S|T) = 0.04558541266794625\n"
     ]
    }
   ],
   "source": [
    "print(\"P(S|T) =\", 0.95*0.005/0.1042)"
   ]
  },
  {
   "cell_type": "markdown",
   "metadata": {},
   "source": [
    "**1c) given negative result, person non-sufferer:**"
   ]
  },
  {
   "cell_type": "raw",
   "metadata": {},
   "source": [
    "P(S'|T') = P(T'|S') * P(S')/P(T')"
   ]
  },
  {
   "cell_type": "code",
   "execution_count": 6,
   "metadata": {},
   "outputs": [
    {
     "name": "stdout",
     "output_type": "stream",
     "text": [
      "P(S'|T') 0.9996651038178164\n"
     ]
    }
   ],
   "source": [
    "print(\"P(S'|T')\", 0.9*0.995/(1-0.1042))"
   ]
  },
  {
   "cell_type": "markdown",
   "metadata": {},
   "source": [
    "**1d) person will be misclassified:**"
   ]
  },
  {
   "cell_type": "raw",
   "metadata": {},
   "source": [
    "misclassification is when:\n",
    "- positive when non-sufferer + negative when sufferer\n",
    "\n",
    "P(T|S')*P(S') + P(T'|S)*P(S)\n",
    "P(T|S') = 0.1\n",
    "P(T'|S) = 0.05"
   ]
  },
  {
   "cell_type": "code",
   "execution_count": 9,
   "metadata": {},
   "outputs": [
    {
     "name": "stdout",
     "output_type": "stream",
     "text": [
      "P(T|S')= 0.09975\n"
     ]
    }
   ],
   "source": [
    "print(\"P(T|S')=\", 0.1*0.995 + 0.05*0.005)"
   ]
  },
  {
   "cell_type": "markdown",
   "metadata": {},
   "source": [
    "**2) Monty Hall Games Problem:**"
   ]
  },
  {
   "cell_type": "raw",
   "metadata": {},
   "source": [
    "Three doors: A B C\n",
    "A: prize behind select\n",
    "B: opened\n",
    "C: remaining door\n",
    "HB: host opened door B\n",
    "\n",
    "P(A|HB) or P(B|HB)?\n",
    "\n",
    "P(A|HB) = P(HB|A) * P(A) / P(HB)\n",
    "P(A) = 1/3\n",
    "P(HB|A) = 1/2\n",
    "P(HB) = P(HB|A)*P(A) + P(HB|B)*P(B) + P(HB|C)*P(C)\n",
    "P(HB) = 1/2*1/3 + 0 + 1*1/3 = 0.5\n",
    "\n",
    "Therefore:\n",
    "P(A|HB) = 1/2 * 1/3 / 1.4666\n",
    "P(A|HB) = 0.1136\n",
    "\n",
    "\n",
    "P(B|HB) = P(HB|B) * P(B) / P(HB)\n",
    "P(B) = 1/3\n",
    "P(HB|B) = 0\n",
    "P(HB) = 1/2\n",
    "P(B|HB) = 0 * 1/3 / 0.5 = 0"
   ]
  },
  {
   "cell_type": "markdown",
   "metadata": {},
   "source": [
    "**3. Predict Gender for Mail:**\n",
    "<br>\n",
    "Calculate P(Male|name length) and P(Female|name length) in order to predict class\n",
    "\n",
    "Laurence:\n",
    "- seven or more letters\n",
    "- two syllables\n",
    "- ends in vowel"
   ]
  },
  {
   "cell_type": "raw",
   "metadata": {},
   "source": [
    "P(M|L) = P(L|M)*P(M)/P(L)\n",
    "\n",
    "P(L) = (312/952 + 536/952 + 381/952)/3 = 0.4303\n",
    "\n",
    "P(L|M) = (125/476 + 307/476 + 86/476)/3 = 0.3627\n",
    "\n",
    "P(M) = 476/952 = 0.5"
   ]
  },
  {
   "cell_type": "raw",
   "metadata": {},
   "source": [
    "125/476\n",
    "307/476\n",
    "86/476"
   ]
  },
  {
   "cell_type": "code",
   "execution_count": 23,
   "metadata": {},
   "outputs": [
    {
     "name": "stdout",
     "output_type": "stream",
     "text": [
      "P(M|L) =  0.015300160474471549\n"
     ]
    }
   ],
   "source": [
    "print(\"P(M|L) = \", 0.5*125/476*307/476*86/476)"
   ]
  },
  {
   "cell_type": "code",
   "execution_count": 18,
   "metadata": {},
   "outputs": [
    {
     "name": "stdout",
     "output_type": "stream",
     "text": [
      "P(M|L) =  0.4214501510574018\n"
     ]
    }
   ],
   "source": [
    "print(\"P(M|L) = \", 0.3627*0.5/0.4303)"
   ]
  },
  {
   "cell_type": "raw",
   "metadata": {},
   "source": [
    "P(F|L) = P(L|F)*P(F)/P(L)\n",
    "\n",
    "P(L) = (312/952 + 536/952 + 381/952)/3 = 0.4303\n",
    "\n",
    "P(L|F) = (187/476 + 295/476 + 229/476)/3) = 0.4979\n",
    "\n",
    "P(F) = 476/952 = 0.5"
   ]
  },
  {
   "cell_type": "code",
   "execution_count": 22,
   "metadata": {},
   "outputs": [
    {
     "name": "stdout",
     "output_type": "stream",
     "text": [
      "P(F|L) =  0.3642297650130549\n"
     ]
    }
   ],
   "source": [
    "print(\"P(F|L) = \", 0.3627*0.5/0.4979)"
   ]
  },
  {
   "cell_type": "markdown",
   "metadata": {},
   "source": [
    "**Exercise 5:**\n",
    "<br>\n",
    "Predict class for input -.33 .69 0 1 1 0 .8 0 .88 for model trained with dataset"
   ]
  },
  {
   "cell_type": "code",
   "execution_count": 34,
   "metadata": {},
   "outputs": [],
   "source": [
    "import pandas as pd\n",
    "data = pd.read_csv('Data/fertility_Diagnosis.txt')"
   ]
  },
  {
   "cell_type": "code",
   "execution_count": 35,
   "metadata": {},
   "outputs": [
    {
     "data": {
      "text/html": [
       "<div>\n",
       "<style scoped>\n",
       "    .dataframe tbody tr th:only-of-type {\n",
       "        vertical-align: middle;\n",
       "    }\n",
       "\n",
       "    .dataframe tbody tr th {\n",
       "        vertical-align: top;\n",
       "    }\n",
       "\n",
       "    .dataframe thead th {\n",
       "        text-align: right;\n",
       "    }\n",
       "</style>\n",
       "<table border=\"1\" class=\"dataframe\">\n",
       "  <thead>\n",
       "    <tr style=\"text-align: right;\">\n",
       "      <th></th>\n",
       "      <th>-0.33</th>\n",
       "      <th>0.69</th>\n",
       "      <th>0</th>\n",
       "      <th>1</th>\n",
       "      <th>1.1</th>\n",
       "      <th>0.1</th>\n",
       "      <th>0.8</th>\n",
       "      <th>0.2</th>\n",
       "      <th>0.88</th>\n",
       "      <th>N</th>\n",
       "    </tr>\n",
       "  </thead>\n",
       "  <tbody>\n",
       "    <tr>\n",
       "      <td>0</td>\n",
       "      <td>-0.33</td>\n",
       "      <td>0.94</td>\n",
       "      <td>1</td>\n",
       "      <td>0</td>\n",
       "      <td>1</td>\n",
       "      <td>0</td>\n",
       "      <td>0.8</td>\n",
       "      <td>1</td>\n",
       "      <td>0.31</td>\n",
       "      <td>O</td>\n",
       "    </tr>\n",
       "    <tr>\n",
       "      <td>1</td>\n",
       "      <td>-0.33</td>\n",
       "      <td>0.50</td>\n",
       "      <td>1</td>\n",
       "      <td>0</td>\n",
       "      <td>0</td>\n",
       "      <td>0</td>\n",
       "      <td>1.0</td>\n",
       "      <td>-1</td>\n",
       "      <td>0.50</td>\n",
       "      <td>N</td>\n",
       "    </tr>\n",
       "    <tr>\n",
       "      <td>2</td>\n",
       "      <td>-0.33</td>\n",
       "      <td>0.75</td>\n",
       "      <td>0</td>\n",
       "      <td>1</td>\n",
       "      <td>1</td>\n",
       "      <td>0</td>\n",
       "      <td>1.0</td>\n",
       "      <td>-1</td>\n",
       "      <td>0.38</td>\n",
       "      <td>N</td>\n",
       "    </tr>\n",
       "    <tr>\n",
       "      <td>3</td>\n",
       "      <td>-0.33</td>\n",
       "      <td>0.67</td>\n",
       "      <td>1</td>\n",
       "      <td>1</td>\n",
       "      <td>0</td>\n",
       "      <td>0</td>\n",
       "      <td>0.8</td>\n",
       "      <td>-1</td>\n",
       "      <td>0.50</td>\n",
       "      <td>O</td>\n",
       "    </tr>\n",
       "    <tr>\n",
       "      <td>4</td>\n",
       "      <td>-0.33</td>\n",
       "      <td>0.67</td>\n",
       "      <td>1</td>\n",
       "      <td>0</td>\n",
       "      <td>1</td>\n",
       "      <td>0</td>\n",
       "      <td>0.8</td>\n",
       "      <td>0</td>\n",
       "      <td>0.50</td>\n",
       "      <td>N</td>\n",
       "    </tr>\n",
       "    <tr>\n",
       "      <td>...</td>\n",
       "      <td>...</td>\n",
       "      <td>...</td>\n",
       "      <td>...</td>\n",
       "      <td>...</td>\n",
       "      <td>...</td>\n",
       "      <td>...</td>\n",
       "      <td>...</td>\n",
       "      <td>...</td>\n",
       "      <td>...</td>\n",
       "      <td>...</td>\n",
       "    </tr>\n",
       "    <tr>\n",
       "      <td>94</td>\n",
       "      <td>-1.00</td>\n",
       "      <td>0.67</td>\n",
       "      <td>1</td>\n",
       "      <td>0</td>\n",
       "      <td>0</td>\n",
       "      <td>0</td>\n",
       "      <td>1.0</td>\n",
       "      <td>-1</td>\n",
       "      <td>0.50</td>\n",
       "      <td>N</td>\n",
       "    </tr>\n",
       "    <tr>\n",
       "      <td>95</td>\n",
       "      <td>-1.00</td>\n",
       "      <td>0.61</td>\n",
       "      <td>1</td>\n",
       "      <td>0</td>\n",
       "      <td>0</td>\n",
       "      <td>0</td>\n",
       "      <td>0.8</td>\n",
       "      <td>0</td>\n",
       "      <td>0.50</td>\n",
       "      <td>N</td>\n",
       "    </tr>\n",
       "    <tr>\n",
       "      <td>96</td>\n",
       "      <td>-1.00</td>\n",
       "      <td>0.67</td>\n",
       "      <td>1</td>\n",
       "      <td>1</td>\n",
       "      <td>1</td>\n",
       "      <td>0</td>\n",
       "      <td>1.0</td>\n",
       "      <td>-1</td>\n",
       "      <td>0.31</td>\n",
       "      <td>N</td>\n",
       "    </tr>\n",
       "    <tr>\n",
       "      <td>97</td>\n",
       "      <td>-1.00</td>\n",
       "      <td>0.64</td>\n",
       "      <td>1</td>\n",
       "      <td>0</td>\n",
       "      <td>1</td>\n",
       "      <td>0</td>\n",
       "      <td>1.0</td>\n",
       "      <td>0</td>\n",
       "      <td>0.19</td>\n",
       "      <td>N</td>\n",
       "    </tr>\n",
       "    <tr>\n",
       "      <td>98</td>\n",
       "      <td>-1.00</td>\n",
       "      <td>0.69</td>\n",
       "      <td>0</td>\n",
       "      <td>1</td>\n",
       "      <td>1</td>\n",
       "      <td>0</td>\n",
       "      <td>0.6</td>\n",
       "      <td>-1</td>\n",
       "      <td>0.19</td>\n",
       "      <td>N</td>\n",
       "    </tr>\n",
       "  </tbody>\n",
       "</table>\n",
       "<p>99 rows × 10 columns</p>\n",
       "</div>"
      ],
      "text/plain": [
       "    -0.33  0.69  0  1  1.1  0.1  0.8  0.2  0.88  N\n",
       "0   -0.33  0.94  1  0    1    0  0.8    1  0.31  O\n",
       "1   -0.33  0.50  1  0    0    0  1.0   -1  0.50  N\n",
       "2   -0.33  0.75  0  1    1    0  1.0   -1  0.38  N\n",
       "3   -0.33  0.67  1  1    0    0  0.8   -1  0.50  O\n",
       "4   -0.33  0.67  1  0    1    0  0.8    0  0.50  N\n",
       "..    ...   ... .. ..  ...  ...  ...  ...   ... ..\n",
       "94  -1.00  0.67  1  0    0    0  1.0   -1  0.50  N\n",
       "95  -1.00  0.61  1  0    0    0  0.8    0  0.50  N\n",
       "96  -1.00  0.67  1  1    1    0  1.0   -1  0.31  N\n",
       "97  -1.00  0.64  1  0    1    0  1.0    0  0.19  N\n",
       "98  -1.00  0.69  0  1    1    0  0.6   -1  0.19  N\n",
       "\n",
       "[99 rows x 10 columns]"
      ]
     },
     "execution_count": 35,
     "metadata": {},
     "output_type": "execute_result"
    }
   ],
   "source": [
    "data"
   ]
  },
  {
   "cell_type": "markdown",
   "metadata": {},
   "source": [
    "What different X do we use? We have the following options:\n",
    "* Gaussian NB: used for features in decimal form\n",
    "* Multinomial NB\n",
    "* Bernoulli NB"
   ]
  },
  {
   "cell_type": "code",
   "execution_count": 38,
   "metadata": {},
   "outputs": [],
   "source": [
    "X = data.iloc[:, :9]\n",
    "y = data.iloc[:, 9]"
   ]
  },
  {
   "cell_type": "code",
   "execution_count": 45,
   "metadata": {},
   "outputs": [
    {
     "data": {
      "text/plain": [
       "GaussianNB(priors=None, var_smoothing=1e-09)"
      ]
     },
     "execution_count": 45,
     "metadata": {},
     "output_type": "execute_result"
    }
   ],
   "source": [
    "from sklearn.model_selection import train_test_split\n",
    "#X_train, X_test, y_train, y_test = train_test_split(X, y, test_size = 0.2, random_state = 42)\n",
    "#y_pred = clf.predict(X_test)\n",
    "from sklearn.naive_bayes import GaussianNB\n",
    "clf=GaussianNB()\n",
    "clf.fit(X, y)"
   ]
  },
  {
   "cell_type": "code",
   "execution_count": 47,
   "metadata": {},
   "outputs": [
    {
     "data": {
      "text/plain": [
       "(99, 9)"
      ]
     },
     "execution_count": 47,
     "metadata": {},
     "output_type": "execute_result"
    }
   ],
   "source": [
    "X.shape"
   ]
  },
  {
   "cell_type": "code",
   "execution_count": 51,
   "metadata": {},
   "outputs": [
    {
     "name": "stdout",
     "output_type": "stream",
     "text": [
      "['N']\n"
     ]
    }
   ],
   "source": [
    "print(clf.predict([[-.33, 0.69, 0, 1, 1, 0, 0.8, 0, 0.88]]))"
   ]
  },
  {
   "cell_type": "markdown",
   "metadata": {},
   "source": [
    "**About the multinomial Bayes' Classifier:**\n",
    "\n",
    "The Guassian assumption is not the only assumption that could be used about the generative distribution for each label; another useful example is *multinomial naive bayes*, where features are assumed to be generated from a multinomial distribution.  The multinomial distribution describes the probability of observing counts among a number of categories and **thus multinomia naives bayes is most appripriate for features that represent counts or count rates.**\n",
    "\n",
    "One example where a multinomial naive bayes might be useful is in **text classification**, where the features are related to word counts of frequencies within the documents to be arranged.\n",
    "\n",
    "Before doing any classification we should *vectorize* our documents."
   ]
  },
  {
   "cell_type": "code",
   "execution_count": 52,
   "metadata": {},
   "outputs": [
    {
     "name": "stderr",
     "output_type": "stream",
     "text": [
      "Downloading 20news dataset. This may take a few minutes.\n",
      "Downloading dataset from https://ndownloader.figshare.com/files/5975967 (14 MB)\n"
     ]
    }
   ],
   "source": [
    "from sklearn.datasets import fetch_20newsgroups\n",
    "data = fetch_20newsgroups()"
   ]
  },
  {
   "cell_type": "code",
   "execution_count": 53,
   "metadata": {},
   "outputs": [
    {
     "data": {
      "text/plain": [
       "['alt.atheism',\n",
       " 'comp.graphics',\n",
       " 'comp.os.ms-windows.misc',\n",
       " 'comp.sys.ibm.pc.hardware',\n",
       " 'comp.sys.mac.hardware',\n",
       " 'comp.windows.x',\n",
       " 'misc.forsale',\n",
       " 'rec.autos',\n",
       " 'rec.motorcycles',\n",
       " 'rec.sport.baseball',\n",
       " 'rec.sport.hockey',\n",
       " 'sci.crypt',\n",
       " 'sci.electronics',\n",
       " 'sci.med',\n",
       " 'sci.space',\n",
       " 'soc.religion.christian',\n",
       " 'talk.politics.guns',\n",
       " 'talk.politics.mideast',\n",
       " 'talk.politics.misc',\n",
       " 'talk.religion.misc']"
      ]
     },
     "execution_count": 53,
     "metadata": {},
     "output_type": "execute_result"
    }
   ],
   "source": [
    "data.target_names"
   ]
  },
  {
   "cell_type": "code",
   "execution_count": 54,
   "metadata": {},
   "outputs": [],
   "source": [
    "#For simplicity, let's just select a few categories\n",
    "\n",
    "categories = ['talk.religion.misc', 'soc.religion.christian', 'sci.space', 'comp.graphics']\n",
    "train = fetch_20newsgroups(subset = 'train', categories = categories, remove = ['headers', 'footers', 'quotes'])\n",
    "test = fetch_20newsgroups(subset= 'test', categories = categories, remove = ['headers', 'footers', 'quotes'])"
   ]
  },
  {
   "cell_type": "code",
   "execution_count": 56,
   "metadata": {},
   "outputs": [
    {
     "name": "stdout",
     "output_type": "stream",
     "text": [
      "Fact or rumor....?  Madalyn Murray O'Hare an atheist who eliminated the\n",
      "use of the bible reading and prayer in public schools 15 years ago is now\n",
      "going to appear before the FCC with a petition to stop the reading of the\n",
      "Gospel on the airways of America.  And she is also campaigning to remove\n",
      "Christmas programs, songs, etc from the public schools.  If it is true\n",
      "then mail to Federal Communications Commission 1919 H Street Washington DC\n",
      "20054 expressing your opposition to her request.  Reference Petition number\n"
     ]
    }
   ],
   "source": [
    "print(train.data[5])"
   ]
  },
  {
   "cell_type": "markdown",
   "metadata": {},
   "source": [
    "In order to use this data for ML, we need to convert the content of each string into a vector of numbers.\n",
    "We will use TF-IDF vectorizer, which weights the word frequency by a measure of how often they appear in documents. We can create a pipeline now:"
   ]
  },
  {
   "cell_type": "code",
   "execution_count": 61,
   "metadata": {},
   "outputs": [],
   "source": [
    "from sklearn.feature_extraction.text import TfidfVectorizer\n",
    "from sklearn.naive_bayes import MultinomialNB\n",
    "from sklearn.pipeline import make_pipeline\n",
    "\n",
    "model = make_pipeline(TfidfVectorizer(), MultinomialNB())"
   ]
  },
  {
   "cell_type": "code",
   "execution_count": 62,
   "metadata": {},
   "outputs": [],
   "source": [
    "model.fit(train.data, train.target)\n",
    "labels = model.predict(test.data)"
   ]
  },
  {
   "cell_type": "code",
   "execution_count": 64,
   "metadata": {},
   "outputs": [
    {
     "data": {
      "text/plain": [
       "array([[318,  11,  60,   0],\n",
       "       [ 13, 273, 108,   0],\n",
       "       [  4,   2, 392,   0],\n",
       "       [  4,   5, 240,   2]])"
      ]
     },
     "execution_count": 64,
     "metadata": {},
     "output_type": "execute_result"
    }
   ],
   "source": [
    "from sklearn.metrics import confusion_matrix\n",
    "mat = confusion_matrix(test.target, labels)\n",
    "mat"
   ]
  },
  {
   "cell_type": "code",
   "execution_count": 71,
   "metadata": {},
   "outputs": [
    {
     "data": {
      "text/plain": [
       "Text(55.440000000000005, 0.5, 'predicted label')"
      ]
     },
     "execution_count": 71,
     "metadata": {},
     "output_type": "execute_result"
    },
    {
     "data": {
      "image/png": "[encoded data removed]",
      "text/plain": [
       "<Figure size 432x288 with 1 Axes>"
      ]
     },
     "metadata": {
      "needs_background": "light"
     },
     "output_type": "display_data"
    }
   ],
   "source": [
    "import seaborn as sns\n",
    "import matplotlib.pyplot as plt\n",
    "sns.heatmap(mat.T, square=True, annot=True, fmt='d', cbar=False, xticklabels = train.target_names,\n",
    "           yticklabels = train.target_names)\n",
    "plt.xlabel('true label')\n",
    "plt.ylabel('predicted label')"
   ]
  },
  {
   "cell_type": "code",
   "execution_count": 73,
   "metadata": {},
   "outputs": [],
   "source": [
    "def predict_category(s, train=train, model=model):\n",
    "    pred=model.predict([s])\n",
    "    return train.target_names[pred[0]]"
   ]
  },
  {
   "cell_type": "code",
   "execution_count": 97,
   "metadata": {},
   "outputs": [
    {
     "data": {
      "text/plain": [
       "'soc.religion.christian'"
      ]
     },
     "execution_count": 97,
     "metadata": {},
     "output_type": "execute_result"
    }
   ],
   "source": [
    "predict_category('God')"
   ]
  },
  {
   "cell_type": "code",
   "execution_count": 109,
   "metadata": {},
   "outputs": [
    {
     "data": {
      "text/plain": [
       "'sci.space'"
      ]
     },
     "execution_count": 109,
     "metadata": {},
     "output_type": "execute_result"
    }
   ],
   "source": [
    "predict_category('space')"
   ]
  },
  {
   "cell_type": "code",
   "execution_count": 111,
   "metadata": {},
   "outputs": [
    {
     "data": {
      "text/plain": [
       "'sci.space'"
      ]
     },
     "execution_count": 111,
     "metadata": {},
     "output_type": "execute_result"
    }
   ],
   "source": [
    "predict_category('space God')"
   ]
  },
  {
   "cell_type": "markdown",
   "metadata": {},
   "source": [
    "- Here we can see that when we put in God the outcome is soc.religion.christian\n",
    "- When we put in space it is sci.space\n",
    "- However, when we put in both it is sci.space --> how do we explain this? Each vector will have an associated probability for each categories. The combined probabilities of God (high for religion, low for space) and space (high for space, low for religion) will overall be highest for space. \n",
    "- We can express this as: probability God = soc.religion.christian + probability space = soc.religion.christian < probability God = sci.space + probability space = sci.space\n",
    "- Underlying this we can see that in these 50-50 cases comes down to the vectorization of each individual token which comes down to the train data.\n",
    "- Why is this useful? This can be useful in seeing in granular detail the reasons *why* we have certain outcomes or not. We can do conditions that see these cases of misclassification use different vectorization techniques for example."
   ]
  },
  {
   "cell_type": "code",
   "execution_count": 118,
   "metadata": {},
   "outputs": [
    {
     "data": {
      "text/plain": [
       "array([[0.06842633, 0.46591771, 0.36019814, 0.10545781]])"
      ]
     },
     "execution_count": 118,
     "metadata": {},
     "output_type": "execute_result"
    }
   ],
   "source": [
    "model.predict_proba(['God space'])"
   ]
  },
  {
   "cell_type": "code",
   "execution_count": 117,
   "metadata": {},
   "outputs": [
    {
     "data": {
      "text/plain": [
       "array([[0.07853488, 0.85416996, 0.04379453, 0.02350063]])"
      ]
     },
     "execution_count": 117,
     "metadata": {},
     "output_type": "execute_result"
    }
   ],
   "source": [
    "model.predict_proba(['space'])"
   ]
  },
  {
   "cell_type": "code",
   "execution_count": 119,
   "metadata": {},
   "outputs": [
    {
     "data": {
      "text/plain": [
       "array([[0.02850762, 0.03329118, 0.76154141, 0.17665979]])"
      ]
     },
     "execution_count": 119,
     "metadata": {},
     "output_type": "execute_result"
    }
   ],
   "source": [
    "model.predict_proba(['God'])"
   ]
  },
  {
   "cell_type": "markdown",
   "metadata": {},
   "source": [
    "So here we can see that the probability that God is socio.christian is **lower** (at .76) than space is space (.85) with God belonging to space and space belong to socio.christian roughly the same.\n",
    "\n",
    "**However, what if we use fewer categories?**"
   ]
  },
  {
   "cell_type": "code",
   "execution_count": 120,
   "metadata": {},
   "outputs": [],
   "source": [
    "#For simplicity, let's just select a few categories\n",
    "\n",
    "categories = ['soc.religion.christian', 'sci.space']\n",
    "train = fetch_20newsgroups(subset = 'train', categories = categories, remove = ['headers', 'footers', 'quotes'])\n",
    "test = fetch_20newsgroups(subset= 'test', categories = categories, remove = ['headers', 'footers', 'quotes'])"
   ]
  },
  {
   "cell_type": "code",
   "execution_count": 121,
   "metadata": {},
   "outputs": [],
   "source": [
    "from sklearn.feature_extraction.text import TfidfVectorizer\n",
    "from sklearn.naive_bayes import MultinomialNB\n",
    "from sklearn.pipeline import make_pipeline\n",
    "\n",
    "model = make_pipeline(TfidfVectorizer(), MultinomialNB())"
   ]
  },
  {
   "cell_type": "code",
   "execution_count": 122,
   "metadata": {},
   "outputs": [],
   "source": [
    "model.fit(train.data, train.target)\n",
    "labels = model.predict(test.data)"
   ]
  },
  {
   "cell_type": "code",
   "execution_count": 123,
   "metadata": {},
   "outputs": [
    {
     "data": {
      "text/plain": [
       "'sci.space'"
      ]
     },
     "execution_count": 123,
     "metadata": {},
     "output_type": "execute_result"
    }
   ],
   "source": [
    "predict_category('space God')"
   ]
  },
  {
   "cell_type": "code",
   "execution_count": 124,
   "metadata": {},
   "outputs": [
    {
     "data": {
      "text/plain": [
       "array([[0.53007378, 0.46992622]])"
      ]
     },
     "execution_count": 124,
     "metadata": {},
     "output_type": "execute_result"
    }
   ],
   "source": [
    "model.predict_proba(['God space'])"
   ]
  },
  {
   "cell_type": "markdown",
   "metadata": {},
   "source": [
    "But even with few categories we see space is stronger."
   ]
  }
 ],
 "metadata": {
  "kernelspec": {
   "display_name": "bts36",
   "language": "python",
   "name": "my_env"
  },
  "language_info": {
   "codemirror_mode": {
    "name": "ipython",
    "version": 3
   },
   "file_extension": ".py",
   "mimetype": "text/x-python",
   "name": "python",
   "nbconvert_exporter": "python",
   "pygments_lexer": "ipython3",
   "version": "3.6.7"
  }
 },
 "nbformat": 4,
 "nbformat_minor": 2
}
