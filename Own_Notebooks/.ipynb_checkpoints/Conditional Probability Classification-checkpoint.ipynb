{
 "cells": [
  {
   "cell_type": "markdown",
   "metadata": {},
   "source": [
    "## Conditional Probability Practice Questions:"
   ]
  },
  {
   "cell_type": "markdown",
   "metadata": {},
   "source": [
    "**1a) Probability test result is positive:**"
   ]
  },
  {
   "cell_type": "raw",
   "metadata": {},
   "source": [
    "P(T) = P(T|S)*P(S) + P(T|S')*P(S')\n",
    "P(T|S) = 0.95\n",
    "P(S) = 0.005\n",
    "P(T|S') = 0.1\n",
    "P(S') = 0.995"
   ]
  },
  {
   "cell_type": "code",
   "execution_count": 1,
   "metadata": {},
   "outputs": [
    {
     "name": "stdout",
     "output_type": "stream",
     "text": [
      "P(T) = 0.10425000000000001\n"
     ]
    }
   ],
   "source": [
    "print(\"P(T) =\", 0.95*0.005+ 0.1*0.995)"
   ]
  },
  {
   "cell_type": "markdown",
   "metadata": {},
   "source": [
    "**1b) Given positive result, probability person is a sufferer:**"
   ]
  },
  {
   "cell_type": "raw",
   "metadata": {},
   "source": [
    "P(T|S) = 0.95\n",
    "P(S) = 0.005\n",
    "P(T) = 0.1042"
   ]
  },
  {
   "cell_type": "raw",
   "metadata": {},
   "source": [
    "P(S|T) = P(T|S)*P(S)/P(T)"
   ]
  },
  {
   "cell_type": "code",
   "execution_count": 5,
   "metadata": {},
   "outputs": [
    {
     "name": "stdout",
     "output_type": "stream",
     "text": [
      "P(S|T) = 0.04558541266794625\n"
     ]
    }
   ],
   "source": [
    "print(\"P(S|T) =\", 0.95*0.005/0.1042)"
   ]
  },
  {
   "cell_type": "markdown",
   "metadata": {},
   "source": [
    "**1c) given negative result, person non-sufferer:**"
   ]
  },
  {
   "cell_type": "raw",
   "metadata": {},
   "source": [
    "P(S'|T') = P(T'|S') * P(S')/P(T')"
   ]
  },
  {
   "cell_type": "code",
   "execution_count": 6,
   "metadata": {},
   "outputs": [
    {
     "name": "stdout",
     "output_type": "stream",
     "text": [
      "P(S'|T') 0.9996651038178164\n"
     ]
    }
   ],
   "source": [
    "print(\"P(S'|T')\", 0.9*0.995/(1-0.1042))"
   ]
  },
  {
   "cell_type": "markdown",
   "metadata": {},
   "source": [
    "**1d) person will be misclassified:**"
   ]
  },
  {
   "cell_type": "raw",
   "metadata": {},
   "source": [
    "misclassification is when:\n",
    "- positive when non-sufferer + negative when sufferer\n",
    "\n",
    "P(T|S')*P(S') + P(T'|S)*P(S)\n",
    "P(T|S') = 0.1\n",
    "P(T'|S) = 0.05"
   ]
  },
  {
   "cell_type": "code",
   "execution_count": 9,
   "metadata": {},
   "outputs": [
    {
     "name": "stdout",
     "output_type": "stream",
     "text": [
      "P(T|S')= 0.09975\n"
     ]
    }
   ],
   "source": [
    "print(\"P(T|S')=\", 0.1*0.995 + 0.05*0.005)"
   ]
  },
  {
   "cell_type": "markdown",
   "metadata": {},
   "source": [
    "**2) Monty Hall Games Problem:**"
   ]
  },
  {
   "cell_type": "raw",
   "metadata": {},
   "source": [
    "Three doors: A B C\n",
    "A: prize behind select\n",
    "B: opened\n",
    "C: remaining door\n",
    "HB: host opened door B\n",
    "\n",
    "P(A|HB) or P(B|HB)?\n",
    "\n",
    "P(A|HB) = P(HB|A) * P(A) / P(HB)\n",
    "P(A) = 1/3\n",
    "P(HB|A) = 1/2\n",
    "P(HB) = P(HB|A)*P(A) + P(HB|B)*P(B) + P(HB|C)*P(C)\n",
    "P(HB) = 1/2*1/3 + 0 + 1*1/3 = 0.5\n",
    "\n",
    "Therefore:\n",
    "P(A|HB) = 1/2 * 1/3 / 1.4666\n",
    "P(A|HB) = 0.1136\n",
    "\n",
    "\n",
    "P(B|HB) = P(HB|B) * P(B) / P(HB)\n",
    "P(B) = 1/3\n",
    "P(HB|B) = 0\n",
    "P(HB) = 1/2\n",
    "P(B|HB) = 0 * 1/3 / 0.5 = 0"
   ]
  },
  {
   "cell_type": "markdown",
   "metadata": {},
   "source": [
    "**3. Predict Gender for Mail:**\n",
    "<br>\n",
    "Calculate P(Male|name length) and P(Female|name length) in order to predict class\n",
    "\n",
    "Laurence:\n",
    "- seven or more letters\n",
    "- two syllables\n",
    "- ends in vowel"
   ]
  },
  {
   "cell_type": "raw",
   "metadata": {},
   "source": [
    "P(M|L) = P(L|M)*P(M)/P(L)\n",
    "\n",
    "P(L) = (312/952 + 536/952 + 381/952)/3 = 0.4303\n",
    "\n",
    "P(L|M) = (125/476 + 307/476 + 86/476)/3 = 0.3627\n",
    "\n",
    "P(M) = 476/952 = 0.5"
   ]
  },
  {
   "cell_type": "raw",
   "metadata": {},
   "source": [
    "125/476\n",
    "307/476\n",
    "86/476"
   ]
  },
  {
   "cell_type": "code",
   "execution_count": 23,
   "metadata": {},
   "outputs": [
    {
     "name": "stdout",
     "output_type": "stream",
     "text": [
      "P(M|L) =  0.015300160474471549\n"
     ]
    }
   ],
   "source": [
    "print(\"P(M|L) = \", 0.5*125/476*307/476*86/476)"
   ]
  },
  {
   "cell_type": "code",
   "execution_count": 18,
   "metadata": {},
   "outputs": [
    {
     "name": "stdout",
     "output_type": "stream",
     "text": [
      "P(M|L) =  0.4214501510574018\n"
     ]
    }
   ],
   "source": [
    "print(\"P(M|L) = \", 0.3627*0.5/0.4303)"
   ]
  },
  {
   "cell_type": "raw",
   "metadata": {},
   "source": [
    "P(F|L) = P(L|F)*P(F)/P(L)\n",
    "\n",
    "P(L) = (312/952 + 536/952 + 381/952)/3 = 0.4303\n",
    "\n",
    "P(L|F) = (187/476 + 295/476 + 229/476)/3) = 0.4979\n",
    "\n",
    "P(F) = 476/952 = 0.5"
   ]
  },
  {
   "cell_type": "code",
   "execution_count": 22,
   "metadata": {},
   "outputs": [
    {
     "name": "stdout",
     "output_type": "stream",
     "text": [
      "P(F|L) =  0.3642297650130549\n"
     ]
    }
   ],
   "source": [
    "print(\"P(F|L) = \", 0.3627*0.5/0.4979)"
   ]
  },
  {
   "cell_type": "markdown",
   "metadata": {},
   "source": [
    "**Exercise 5:**\n",
    "<br>\n",
    "Predict class for input -.33 .69 0 1 1 0 .8 0 .88 for model trained with dataset"
   ]
  },
  {
   "cell_type": "code",
   "execution_count": 34,
   "metadata": {},
   "outputs": [],
   "source": [
    "import pandas as pd\n",
    "data = pd.read_csv('Data/fertility_Diagnosis.txt')"
   ]
  },
  {
   "cell_type": "code",
   "execution_count": 35,
   "metadata": {},
   "outputs": [
    {
     "data": {
      "text/html": [
       "<div>\n",
       "<style scoped>\n",
       "    .dataframe tbody tr th:only-of-type {\n",
       "        vertical-align: middle;\n",
       "    }\n",
       "\n",
       "    .dataframe tbody tr th {\n",
       "        vertical-align: top;\n",
       "    }\n",
       "\n",
       "    .dataframe thead th {\n",
       "        text-align: right;\n",
       "    }\n",
       "</style>\n",
       "<table border=\"1\" class=\"dataframe\">\n",
       "  <thead>\n",
       "    <tr style=\"text-align: right;\">\n",
       "      <th></th>\n",
       "      <th>-0.33</th>\n",
       "      <th>0.69</th>\n",
       "      <th>0</th>\n",
       "      <th>1</th>\n",
       "      <th>1.1</th>\n",
       "      <th>0.1</th>\n",
       "      <th>0.8</th>\n",
       "      <th>0.2</th>\n",
       "      <th>0.88</th>\n",
       "      <th>N</th>\n",
       "    </tr>\n",
       "  </thead>\n",
       "  <tbody>\n",
       "    <tr>\n",
       "      <td>0</td>\n",
       "      <td>-0.33</td>\n",
       "      <td>0.94</td>\n",
       "      <td>1</td>\n",
       "      <td>0</td>\n",
       "      <td>1</td>\n",
       "      <td>0</td>\n",
       "      <td>0.8</td>\n",
       "      <td>1</td>\n",
       "      <td>0.31</td>\n",
       "      <td>O</td>\n",
       "    </tr>\n",
       "    <tr>\n",
       "      <td>1</td>\n",
       "      <td>-0.33</td>\n",
       "      <td>0.50</td>\n",
       "      <td>1</td>\n",
       "      <td>0</td>\n",
       "      <td>0</td>\n",
       "      <td>0</td>\n",
       "      <td>1.0</td>\n",
       "      <td>-1</td>\n",
       "      <td>0.50</td>\n",
       "      <td>N</td>\n",
       "    </tr>\n",
       "    <tr>\n",
       "      <td>2</td>\n",
       "      <td>-0.33</td>\n",
       "      <td>0.75</td>\n",
       "      <td>0</td>\n",
       "      <td>1</td>\n",
       "      <td>1</td>\n",
       "      <td>0</td>\n",
       "      <td>1.0</td>\n",
       "      <td>-1</td>\n",
       "      <td>0.38</td>\n",
       "      <td>N</td>\n",
       "    </tr>\n",
       "    <tr>\n",
       "      <td>3</td>\n",
       "      <td>-0.33</td>\n",
       "      <td>0.67</td>\n",
       "      <td>1</td>\n",
       "      <td>1</td>\n",
       "      <td>0</td>\n",
       "      <td>0</td>\n",
       "      <td>0.8</td>\n",
       "      <td>-1</td>\n",
       "      <td>0.50</td>\n",
       "      <td>O</td>\n",
       "    </tr>\n",
       "    <tr>\n",
       "      <td>4</td>\n",
       "      <td>-0.33</td>\n",
       "      <td>0.67</td>\n",
       "      <td>1</td>\n",
       "      <td>0</td>\n",
       "      <td>1</td>\n",
       "      <td>0</td>\n",
       "      <td>0.8</td>\n",
       "      <td>0</td>\n",
       "      <td>0.50</td>\n",
       "      <td>N</td>\n",
       "    </tr>\n",
       "    <tr>\n",
       "      <td>...</td>\n",
       "      <td>...</td>\n",
       "      <td>...</td>\n",
       "      <td>...</td>\n",
       "      <td>...</td>\n",
       "      <td>...</td>\n",
       "      <td>...</td>\n",
       "      <td>...</td>\n",
       "      <td>...</td>\n",
       "      <td>...</td>\n",
       "      <td>...</td>\n",
       "    </tr>\n",
       "    <tr>\n",
       "      <td>94</td>\n",
       "      <td>-1.00</td>\n",
       "      <td>0.67</td>\n",
       "      <td>1</td>\n",
       "      <td>0</td>\n",
       "      <td>0</td>\n",
       "      <td>0</td>\n",
       "      <td>1.0</td>\n",
       "      <td>-1</td>\n",
       "      <td>0.50</td>\n",
       "      <td>N</td>\n",
       "    </tr>\n",
       "    <tr>\n",
       "      <td>95</td>\n",
       "      <td>-1.00</td>\n",
       "      <td>0.61</td>\n",
       "      <td>1</td>\n",
       "      <td>0</td>\n",
       "      <td>0</td>\n",
       "      <td>0</td>\n",
       "      <td>0.8</td>\n",
       "      <td>0</td>\n",
       "      <td>0.50</td>\n",
       "      <td>N</td>\n",
       "    </tr>\n",
       "    <tr>\n",
       "      <td>96</td>\n",
       "      <td>-1.00</td>\n",
       "      <td>0.67</td>\n",
       "      <td>1</td>\n",
       "      <td>1</td>\n",
       "      <td>1</td>\n",
       "      <td>0</td>\n",
       "      <td>1.0</td>\n",
       "      <td>-1</td>\n",
       "      <td>0.31</td>\n",
       "      <td>N</td>\n",
       "    </tr>\n",
       "    <tr>\n",
       "      <td>97</td>\n",
       "      <td>-1.00</td>\n",
       "      <td>0.64</td>\n",
       "      <td>1</td>\n",
       "      <td>0</td>\n",
       "      <td>1</td>\n",
       "      <td>0</td>\n",
       "      <td>1.0</td>\n",
       "      <td>0</td>\n",
       "      <td>0.19</td>\n",
       "      <td>N</td>\n",
       "    </tr>\n",
       "    <tr>\n",
       "      <td>98</td>\n",
       "      <td>-1.00</td>\n",
       "      <td>0.69</td>\n",
       "      <td>0</td>\n",
       "      <td>1</td>\n",
       "      <td>1</td>\n",
       "      <td>0</td>\n",
       "      <td>0.6</td>\n",
       "      <td>-1</td>\n",
       "      <td>0.19</td>\n",
       "      <td>N</td>\n",
       "    </tr>\n",
       "  </tbody>\n",
       "</table>\n",
       "<p>99 rows × 10 columns</p>\n",
       "</div>"
      ],
      "text/plain": [
       "    -0.33  0.69  0  1  1.1  0.1  0.8  0.2  0.88  N\n",
       "0   -0.33  0.94  1  0    1    0  0.8    1  0.31  O\n",
       "1   -0.33  0.50  1  0    0    0  1.0   -1  0.50  N\n",
       "2   -0.33  0.75  0  1    1    0  1.0   -1  0.38  N\n",
       "3   -0.33  0.67  1  1    0    0  0.8   -1  0.50  O\n",
       "4   -0.33  0.67  1  0    1    0  0.8    0  0.50  N\n",
       "..    ...   ... .. ..  ...  ...  ...  ...   ... ..\n",
       "94  -1.00  0.67  1  0    0    0  1.0   -1  0.50  N\n",
       "95  -1.00  0.61  1  0    0    0  0.8    0  0.50  N\n",
       "96  -1.00  0.67  1  1    1    0  1.0   -1  0.31  N\n",
       "97  -1.00  0.64  1  0    1    0  1.0    0  0.19  N\n",
       "98  -1.00  0.69  0  1    1    0  0.6   -1  0.19  N\n",
       "\n",
       "[99 rows x 10 columns]"
      ]
     },
     "execution_count": 35,
     "metadata": {},
     "output_type": "execute_result"
    }
   ],
   "source": [
    "data"
   ]
  },
  {
   "cell_type": "markdown",
   "metadata": {},
   "source": [
    "What different X do we use? We have the following options:\n",
    "* Gaussian NB: used for features in decimal form\n",
    "* Multinomial NB\n",
    "* Bernoulli NB"
   ]
  },
  {
   "cell_type": "code",
   "execution_count": 38,
   "metadata": {},
   "outputs": [],
   "source": [
    "X = data.iloc[:, :9]\n",
    "y = data.iloc[:, 9]"
   ]
  },
  {
   "cell_type": "code",
   "execution_count": 45,
   "metadata": {},
   "outputs": [
    {
     "data": {
      "text/plain": [
       "GaussianNB(priors=None, var_smoothing=1e-09)"
      ]
     },
     "execution_count": 45,
     "metadata": {},
     "output_type": "execute_result"
    }
   ],
   "source": [
    "from sklearn.model_selection import train_test_split\n",
    "#X_train, X_test, y_train, y_test = train_test_split(X, y, test_size = 0.2, random_state = 42)\n",
    "#y_pred = clf.predict(X_test)\n",
    "from sklearn.naive_bayes import GaussianNB\n",
    "clf=GaussianNB()\n",
    "clf.fit(X, y)"
   ]
  },
  {
   "cell_type": "code",
   "execution_count": 47,
   "metadata": {},
   "outputs": [
    {
     "data": {
      "text/plain": [
       "(99, 9)"
      ]
     },
     "execution_count": 47,
     "metadata": {},
     "output_type": "execute_result"
    }
   ],
   "source": [
    "X.shape"
   ]
  },
  {
   "cell_type": "code",
   "execution_count": 51,
   "metadata": {},
   "outputs": [
    {
     "name": "stdout",
     "output_type": "stream",
     "text": [
      "['N']\n"
     ]
    }
   ],
   "source": [
    "print(clf.predict([[-.33, 0.69, 0, 1, 1, 0, 0.8, 0, 0.88]]))"
   ]
  },
  {
   "cell_type": "markdown",
   "metadata": {},
   "source": [
    "**About the multinomial Bayes' Classifier:**\n",
    "\n",
    "The Guassian assumption is not the only assumption that could be used about the generative distribution for each label; another useful example is *multinomial naive bayes*, where features are assumed to be generated from a multinomial distribution.  The multinomial distribution describes the probability of observing counts among a number of categories and **thus multinomia naives bayes is most appripriate for features that represent counts or count rates.**\n",
    "\n",
    "One example where a multinomial naive bayes might be useful is in **text classification**, where the features are related to word counts of frequencies within the documents to be arranged.\n",
    "\n",
    "Before doing any classification we should *vectorize* our documents."
   ]
  },
  {
   "cell_type": "code",
   "execution_count": null,
   "metadata": {},
   "outputs": [
    {
     "name": "stderr",
     "output_type": "stream",
     "text": [
      "Downloading 20news dataset. This may take a few minutes.\n",
      "Downloading dataset from https://ndownloader.figshare.com/files/5975967 (14 MB)\n"
     ]
    }
   ],
   "source": [
    "from sklearn.datasets import fetch_20newsgroups\n",
    "data = fetch_20newsgroups()"
   ]
  },
  {
   "cell_type": "code",
   "execution_count": null,
   "metadata": {},
   "outputs": [],
   "source": [
    "data.target_names"
   ]
  }
 ],
 "metadata": {
  "kernelspec": {
   "display_name": "bts36",
   "language": "python",
   "name": "my_env"
  },
  "language_info": {
   "codemirror_mode": {
    "name": "ipython",
    "version": 3
   },
   "file_extension": ".py",
   "mimetype": "text/x-python",
   "name": "python",
   "nbconvert_exporter": "python",
   "pygments_lexer": "ipython3",
   "version": "3.6.7"
  }
 },
 "nbformat": 4,
 "nbformat_minor": 2
}
